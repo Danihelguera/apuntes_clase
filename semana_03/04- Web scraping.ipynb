{
 "cells": [
  {
   "cell_type": "markdown",
   "id": "buried-palestinian",
   "metadata": {},
   "source": [
    "# Web Scraping"
   ]
  },
  {
   "cell_type": "markdown",
   "id": "unable-recall",
   "metadata": {},
   "source": [
    "![legtsgo](https://media.giphy.com/media/dwmNhd5H7YAz6/giphy.gif)"
   ]
  },
  {
   "cell_type": "markdown",
   "id": "intended-controversy",
   "metadata": {
    "toc": true
   },
   "source": [
    "<h1>Table of Contents<span class=\"tocSkip\"></span></h1>\n",
    "<div class=\"toc\"><ul class=\"toc-item\"><li><span><a href=\"#Repaso-HTML\" data-toc-modified-id=\"Repaso-HTML-1\"><span class=\"toc-item-num\">1&nbsp;&nbsp;</span>Repaso HTML</a></span><ul class=\"toc-item\"><li><span><a href=\"#Tags\" data-toc-modified-id=\"Tags-1.1\"><span class=\"toc-item-num\">1.1&nbsp;&nbsp;</span>Tags</a></span></li><li><span><a href=\"#Atributos\" data-toc-modified-id=\"Atributos-1.2\"><span class=\"toc-item-num\">1.2&nbsp;&nbsp;</span>Atributos</a></span></li></ul></li><li><span><a href=\"#Beautitul-soup\" data-toc-modified-id=\"Beautitul-soup-2\"><span class=\"toc-item-num\">2&nbsp;&nbsp;</span>Beautitul soup</a></span><ul class=\"toc-item\"><li><span><a href=\"#Hacer-scraping-de-los-elementos-HTML-usando-la-clase-Attribute\" data-toc-modified-id=\"Hacer-scraping-de-los-elementos-HTML-usando-la-clase-Attribute-2.1\"><span class=\"toc-item-num\">2.1&nbsp;&nbsp;</span>Hacer scraping de los elementos HTML usando la clase Attribute</a></span></li><li><span><a href=\"#Obtener-las-etiquetas-HTML-usando-findAll\" data-toc-modified-id=\"Obtener-las-etiquetas-HTML-usando-findAll-2.2\"><span class=\"toc-item-num\">2.2&nbsp;&nbsp;</span>Obtener las etiquetas HTML usando findAll</a></span></li><li><span><a href=\"#Buscar-el-enésimo-hijo-usando-Beautiful-Soup\" data-toc-modified-id=\"Buscar-el-enésimo-hijo-usando-Beautiful-Soup-2.3\"><span class=\"toc-item-num\">2.3&nbsp;&nbsp;</span>Buscar el enésimo hijo usando Beautiful Soup</a></span></li></ul></li><li><span><a href=\"#Diferencia-entre-find_all()-y-select()\" data-toc-modified-id=\"Diferencia-entre-find_all()-y-select()-3\"><span class=\"toc-item-num\">3&nbsp;&nbsp;</span>Diferencia entre find_all() y select()</a></span><ul class=\"toc-item\"><li><ul class=\"toc-item\"><li><span><a href=\"#Find_all\" data-toc-modified-id=\"Find_all-3.0.1\"><span class=\"toc-item-num\">3.0.1&nbsp;&nbsp;</span>Find_all</a></span></li><li><span><a href=\"#Select\" data-toc-modified-id=\"Select-3.0.2\"><span class=\"toc-item-num\">3.0.2&nbsp;&nbsp;</span>Select</a></span></li></ul></li></ul></li><li><span><a href=\"#Manos-a-la-obra\" data-toc-modified-id=\"Manos-a-la-obra-4\"><span class=\"toc-item-num\">4&nbsp;&nbsp;</span>Manos a la obra</a></span><ul class=\"toc-item\"><li><span><a href=\"#Ejemplo-1-Página-de-zapatillas-de-deporte\" data-toc-modified-id=\"Ejemplo-1-Página-de-zapatillas-de-deporte-4.1\"><span class=\"toc-item-num\">4.1&nbsp;&nbsp;</span>Ejemplo 1 Página de zapatillas de deporte</a></span></li><li><span><a href=\"#Ejemplo-Amazon\" data-toc-modified-id=\"Ejemplo-Amazon-4.2\"><span class=\"toc-item-num\">4.2&nbsp;&nbsp;</span>Ejemplo Amazon</a></span></li><li><span><a href=\"#Qué-cabrones-¿eh?\" data-toc-modified-id=\"Qué-cabrones-¿eh?-4.3\"><span class=\"toc-item-num\">4.3&nbsp;&nbsp;</span>Qué cabrones ¿eh?</a></span></li><li><span><a href=\"#¿TODO-ESTO-PARA-NADA?\" data-toc-modified-id=\"¿TODO-ESTO-PARA-NADA?-4.4\"><span class=\"toc-item-num\">4.4&nbsp;&nbsp;</span>¿TODO ESTO PARA NADA?</a></span></li><li><span><a href=\"#Ejemplo-wikipedia-medallero\" data-toc-modified-id=\"Ejemplo-wikipedia-medallero-4.5\"><span class=\"toc-item-num\">4.5&nbsp;&nbsp;</span>Ejemplo wikipedia medallero</a></span></li></ul></li><li><span><a href=\"#whatafack-is-a-td\" data-toc-modified-id=\"whatafack-is-a-td-5\"><span class=\"toc-item-num\">5&nbsp;&nbsp;</span>whatafack is a td</a></span><ul class=\"toc-item\"><li><span><a href=\"#Ejemplo-Wikipedia-Enlaces\" data-toc-modified-id=\"Ejemplo-Wikipedia-Enlaces-5.1\"><span class=\"toc-item-num\">5.1&nbsp;&nbsp;</span>Ejemplo Wikipedia Enlaces</a></span></li></ul></li><li><span><a href=\"#Resumen\" data-toc-modified-id=\"Resumen-6\"><span class=\"toc-item-num\">6&nbsp;&nbsp;</span>Resumen</a></span></li></ul></div>"
   ]
  },
  {
   "cell_type": "markdown",
   "id": "popular-estate",
   "metadata": {},
   "source": [
    "## Repaso HTML\n",
    "El código HTML se compone de contenido `<etiquetado>`      \n",
    "HTML tiene una estructura jeárquica: parent tags, children tags, sibling tags:     \n",
    "\n",
    "```\n",
    "<html>\n",
    "    <head>\n",
    "        <title>Page Title</title>\n",
    "    </head>\n",
    "    <body>\n",
    "        <h1>My First Heading</h1>\n",
    "        <p>My first paragraph.</p>\n",
    "    </body>\n",
    "</html>\n",
    "```"
   ]
  },
  {
   "cell_type": "markdown",
   "id": "immediate-deficit",
   "metadata": {},
   "source": [
    "### Tags\n",
    "\n",
    "Las etiquetas pueden clasificarse en diferentes grupos, en función del tipo de contenido que se espera que posean\n",
    " * heading: `<h1>`, `<h2>`, `<h3>`, `<hgroup>`...\n",
    " * phrasing: `<b>`, `<sub>`...\n",
    " * embedded: `<audio>`, `<img>`, `<video>`...\n",
    " * tabulated: `<table>`, `<tr>`, `<tbody>`...\n",
    " * sections: `<header>`, `<section>`, `<article>`...\n",
    " * metadata: `<meta>`, `<title>`, `<script>`..."
   ]
  },
  {
   "cell_type": "markdown",
   "id": "behavioral-plate",
   "metadata": {},
   "source": [
    "### Atributos\n",
    "Los atributos son propiedades que un tag puede o no tener. \n",
    "`<div> Zapas Marca Joma X54 </div>` En este caso, la etiqueta div no tiene atributos      \n",
    "\n",
    "* un atributo `class` con etiqueta `price-item`\n",
    "* un atributo `id` con etiqueta `offer`  \n",
    "\n",
    "`<div class=\"price-item\" id=\"offer\"> Zapas Marca Joma X54 </div>`     \n",
    "\n",
    "El atributo `id` debe ser único para una etiqueta (no debe haber dos etiquetas con el mismo `id`), sin embargo, `class` no pretende ser única, normalmente agrupa etiquetas con un comportamiento similar. Que el id sea único es una convención, html sí nos permite tener el mismo id. Nosotras no buscaremos por id, a no ser que queramos buscar algo concreto, porque querremos obtener muchos datos....     \n",
    "\n",
    "Otras etiquetas de uso frecuente son:\n",
    "* `dir`\n",
    "* `lang`\n",
    "* `style` (no confundir con la etiqueta `<style>` )\n",
    "* `title` (no confundir con la etiqueta `<title>` )"
   ]
  },
  {
   "cell_type": "markdown",
   "id": "strong-proof",
   "metadata": {},
   "source": [
    "## Beautitul soup\n",
    "“Si sólo tratas de sacar datos de una web. Beautiful Soup está aquí para ayudar “.\n",
    "\n",
    "Pero solo te ayudará si te [lees la documentación](https://www.crummy.com/software/BeautifulSoup/bs4/doc/) 🤭\n",
    "\n",
    "Beautiful Soup es una librería Python para obtener datos de HTML, XML y otros lenguajes de marcado. Digamos que has encontrado algunas páginas web que muestran datos relevantes para ti, como información de fechas, contenido, dirección, valores… pero esa web no proporciona ninguna forma de descargar los datos directamente. Beautiful Soup te ayuda a extraer contenido particular de una página web, elimina el marcado HTML, guardar la información e incluso te lo exporta en un archivo excel.        \n",
    "La documentación de Beautiful Soup te dará una idea de la variedad de cosas que la biblioteca Beautiful Soup te ayudará, desde aislar títulos y enlaces, extraer todo el texto de las etiquetas html, hasta alterar el HTML dentro del documento con el que está trabajando."
   ]
  },
  {
   "cell_type": "markdown",
   "id": "prescribed-practitioner",
   "metadata": {},
   "source": [
    "### Hacer scraping de los elementos HTML usando la clase Attribute\n",
    "El objeto Beautiful Soup tiene una función llamada findAll que extrae o filtra elementos en función de sus atributos.    \n",
    "Podemos filtrar todos los elementos h2 cuya clase es widget-title:"
   ]
  },
  {
   "cell_type": "markdown",
   "id": "substantial-consumption",
   "metadata": {},
   "source": [
    "```python\n",
    "tags = res.findAll(\"h2\", {\"class\": \"widget-title\"})\n",
    "```"
   ]
  },
  {
   "cell_type": "markdown",
   "id": "recognized-steel",
   "metadata": {},
   "source": [
    "Podemos usar una estructura for para iterar sobre ellos y hacer lo que sea con cada uno."
   ]
  },
  {
   "cell_type": "code",
   "execution_count": 3,
   "id": "overhead-darwin",
   "metadata": {},
   "outputs": [],
   "source": [
    "import requests\n",
    "from bs4 import BeautifulSoup"
   ]
  },
  {
   "cell_type": "code",
   "execution_count": 2,
   "id": "favorite-westminster",
   "metadata": {},
   "outputs": [],
   "source": [
    "url = \"https://www.python.org/\"\n",
    "html = requests.get(url)\n",
    "soup = BeautifulSoup(html.content,\"html.parser\")"
   ]
  },
  {
   "cell_type": "code",
   "execution_count": 262,
   "id": "noted-underwear",
   "metadata": {},
   "outputs": [],
   "source": [
    "#soup #No lo printeo porque es mazo de largo, infinito"
   ]
  },
  {
   "cell_type": "code",
   "execution_count": 9,
   "id": "incorrect-processing",
   "metadata": {},
   "outputs": [],
   "source": [
    "tags = soup.find_all(\"h2\", {\"class\": \"widget-title\"})"
   ]
  },
  {
   "cell_type": "code",
   "execution_count": 10,
   "id": "female-drawing",
   "metadata": {},
   "outputs": [
    {
     "data": {
      "text/plain": [
       "[<h2 class=\"widget-title\"><span aria-hidden=\"true\" class=\"icon-get-started\"></span>Get Started</h2>,\n",
       " <h2 class=\"widget-title\"><span aria-hidden=\"true\" class=\"icon-download\"></span>Download</h2>,\n",
       " <h2 class=\"widget-title\"><span aria-hidden=\"true\" class=\"icon-documentation\"></span>Docs</h2>,\n",
       " <h2 class=\"widget-title\"><span aria-hidden=\"true\" class=\"icon-jobs\"></span>Jobs</h2>,\n",
       " <h2 class=\"widget-title\"><span aria-hidden=\"true\" class=\"icon-news\"></span>Latest News</h2>,\n",
       " <h2 class=\"widget-title\"><span aria-hidden=\"true\" class=\"icon-calendar\"></span>Upcoming Events</h2>,\n",
       " <h2 class=\"widget-title\"><span aria-hidden=\"true\" class=\"icon-success-stories\"></span>Success Stories</h2>,\n",
       " <h2 class=\"widget-title\"><span aria-hidden=\"true\" class=\"icon-python\"></span>Use Python for…</h2>,\n",
       " <h2 class=\"widget-title\">\n",
       " <span class=\"prompt\">&gt;&gt;&gt;</span> <a href=\"/dev/peps/\">Python Enhancement Proposals<span class=\"say-no-more\"> (PEPs)</span></a>: The future of Python<span class=\"say-no-more\"> is discussed here.</span>\n",
       " <a aria-hidden=\"true\" class=\"rss-link\" href=\"/dev/peps/peps.rss\"><span class=\"icon-feed\"></span> RSS</a>\n",
       " </h2>,\n",
       " <h2 class=\"widget-title\">\n",
       " <span class=\"prompt\">&gt;&gt;&gt;</span> <a href=\"/psf/\">Python Software Foundation</a>\n",
       " </h2>]"
      ]
     },
     "execution_count": 10,
     "metadata": {},
     "output_type": "execute_result"
    }
   ],
   "source": [
    "#findall nos devuelve una lista\n",
    "tags"
   ]
  },
  {
   "cell_type": "code",
   "execution_count": 11,
   "id": "unique-shelter",
   "metadata": {},
   "outputs": [
    {
     "data": {
      "text/plain": [
       "10"
      ]
     },
     "execution_count": 11,
     "metadata": {},
     "output_type": "execute_result"
    }
   ],
   "source": [
    "len(tags)"
   ]
  },
  {
   "cell_type": "code",
   "execution_count": 15,
   "id": "approximate-sample",
   "metadata": {},
   "outputs": [
    {
     "data": {
      "text/plain": [
       "<h2 class=\"widget-title\"><span aria-hidden=\"true\" class=\"icon-get-started\"></span>Get Started</h2>"
      ]
     },
     "execution_count": 15,
     "metadata": {},
     "output_type": "execute_result"
    }
   ],
   "source": [
    "tags[0]"
   ]
  },
  {
   "cell_type": "code",
   "execution_count": 14,
   "id": "gross-clinton",
   "metadata": {},
   "outputs": [
    {
     "data": {
      "text/plain": [
       "'Get Started'"
      ]
     },
     "execution_count": 14,
     "metadata": {},
     "output_type": "execute_result"
    }
   ],
   "source": [
    "tags[0].getText()"
   ]
  },
  {
   "cell_type": "code",
   "execution_count": 17,
   "id": "valuable-instrument",
   "metadata": {},
   "outputs": [
    {
     "name": "stdout",
     "output_type": "stream",
     "text": [
      "Get Started\n",
      "Download\n",
      "Docs\n",
      "Jobs\n",
      "Latest News\n",
      "Upcoming Events\n",
      "Success Stories\n",
      "Use Python for…\n",
      "\n",
      ">>> Python Enhancement Proposals (PEPs): The future of Python is discussed here.\n",
      " RSS\n",
      "\n",
      "\n",
      ">>> Python Software Foundation\n",
      "\n"
     ]
    }
   ],
   "source": [
    "for tag in tags:\n",
    "    print(tag.getText())"
   ]
  },
  {
   "cell_type": "code",
   "execution_count": 18,
   "id": "invisible-status",
   "metadata": {},
   "outputs": [],
   "source": [
    "lista_palabras = [tag.getText() for tag in tags]"
   ]
  },
  {
   "cell_type": "code",
   "execution_count": 19,
   "id": "negative-extreme",
   "metadata": {},
   "outputs": [
    {
     "data": {
      "text/plain": [
       "['Get Started',\n",
       " 'Download',\n",
       " 'Docs',\n",
       " 'Jobs',\n",
       " 'Latest News',\n",
       " 'Upcoming Events',\n",
       " 'Success Stories',\n",
       " 'Use Python for…',\n",
       " '\\n>>> Python Enhancement Proposals (PEPs): The future of Python is discussed here.\\n RSS\\n',\n",
       " '\\n>>> Python Software Foundation\\n']"
      ]
     },
     "execution_count": 19,
     "metadata": {},
     "output_type": "execute_result"
    }
   ],
   "source": [
    "lista_palabras"
   ]
  },
  {
   "cell_type": "markdown",
   "id": "christian-starter",
   "metadata": {},
   "source": [
    "Usamos la función getText para imprimir solo el contenido interno de la etiqueta, pero si no usaste getText, terminarás con las etiquetas incluido todo lo que haya dentro de ellas."
   ]
  },
  {
   "cell_type": "markdown",
   "id": "eight-mention",
   "metadata": {},
   "source": [
    "### Obtener las etiquetas HTML usando findAll\n",
    "Vimos cómo findAll function filtra las etiquetas por clase, pero esto no es todo.\n",
    "\n",
    "Para filtrar una lista de etiquetas, reemplaza la línea resaltada del ejemplo anterior con la siguiente línea:"
   ]
  },
  {
   "cell_type": "code",
   "execution_count": null,
   "id": "accompanied-performance",
   "metadata": {},
   "outputs": [],
   "source": [
    "#Este código obtiene todas las etiquetas span, a e img del código HTML descargado.\n",
    "tags = res.findAll(\"span\", \"a\" \"img\")"
   ]
  },
  {
   "cell_type": "markdown",
   "id": "clear-taste",
   "metadata": {},
   "source": [
    "Además, puedes extraer etiquetas que tengan estas clases:"
   ]
  },
  {
   "cell_type": "code",
   "execution_count": null,
   "id": "agreed-polyester",
   "metadata": {},
   "outputs": [],
   "source": [
    "tags = res.findAll(\"a\", {\"class\": [\"url\", \"readmorebtn\"]})"
   ]
  },
  {
   "cell_type": "markdown",
   "id": "combined-correspondence",
   "metadata": {},
   "source": [
    "Este código extrae todas las etiquetas a que tienen las clases readmorebtn y url.     \n",
    "Puedes filtrar el contenido en función del texto interno, utilizando el argumento text de esta manera:"
   ]
  },
  {
   "cell_type": "code",
   "execution_count": null,
   "id": "extraordinary-compound",
   "metadata": {},
   "outputs": [],
   "source": [
    "tags = res.findAll(text=\"Python Programming Basics with Examples\")"
   ]
  },
  {
   "cell_type": "markdown",
   "id": "duplicate-water",
   "metadata": {},
   "source": [
    "La función findAll devuelve todos los elementos que coinciden con los atributos especificados, pero si deseas devolver un solo elemento, puedes usar el parámetro limit o usar la función find que solo devuelve el primer elemento."
   ]
  },
  {
   "cell_type": "markdown",
   "id": "frank-thunder",
   "metadata": {},
   "source": [
    "### Buscar el enésimo hijo usando Beautiful Soup\n",
    "El objeto Beautiful Soup tiene muchas características potentes, puedes obtener elementos hijos directamente así:"
   ]
  },
  {
   "cell_type": "code",
   "execution_count": null,
   "id": "hollow-timing",
   "metadata": {},
   "outputs": [],
   "source": [
    "tags = res.span.findAll(\"a\")"
   ]
  },
  {
   "cell_type": "markdown",
   "id": "painful-reasoning",
   "metadata": {},
   "source": [
    "Esta línea obtendrá el primer elemento span en el objeto Beautiful Soup y luego obtendrá todos los elementos a en ese span.\n",
    "\n",
    "¿Qué pasa si necesitas conseguir el enésimo hijo?\n",
    "```python\n",
    "tag = res.find(\"nav\", {\"id\": \"site-navigation\"}).select(\"a\")[3]\n",
    "```\n",
    "\n",
    "Esta línea obtiene el elemento nav con id site-navigation y luego tomamos la cuarta etiqueta a de ese elemento nav.\n",
    "\n",
    "¡Beautiful Soup es brutaaaaaaaaaal!"
   ]
  },
  {
   "cell_type": "markdown",
   "id": "ordinary-hardware",
   "metadata": {},
   "source": [
    "## Diferencia entre find_all() y select()"
   ]
  },
  {
   "cell_type": "markdown",
   "id": "nutritional-senate",
   "metadata": {},
   "source": [
    "#### Find_all\n",
    "[DOCUMENTACIÓN FINDALL](https://www.crummy.com/software/BeautifulSoup/bs4/doc/#calling-a-tag-is-like-calling-find-all)     \n",
    "El método find_all() escanea todo el documento en busca de resultados, pero a veces sólo se quiere encontrar un resultado. Si sabe que un documento sólo tiene una etiqueta <body>, es una pérdida de tiempo escanear todo el documento en busca de más. En lugar de pasar limit=1 cada vez que llame a find_all, puede utilizar el método find(). "
   ]
  },
  {
   "cell_type": "markdown",
   "id": "fresh-purse",
   "metadata": {},
   "source": [
    "#### Select\n",
    "[DOCUMENTACIÓN SELECT](https://www.crummy.com/software/BeautifulSoup/bs4/doc/#css-selectors)     \n",
    "BeautifulSoup tiene un método .select() que utiliza el paquete SoupSieve para ejecutar un selector CSS contra un documento analizado y devolver todos los elementos coincidentes. Tag tiene un método similar que ejecuta un selector CSS contra el contenido de una sola etiqueta.\n",
    "\n",
    "(La integración de SoupSieve se añadió en Beautiful Soup 4.7.0.) Las versiones anteriores también tienen el método .select(), pero sólo se soportan los selectores CSS más utilizados. Si instalaste Beautiful Soup a través de pip, SoupSieve fue instalado al mismo tiempo, así que no tienes que hacer nada extra).\n",
    "\n",
    "La documentación de SoupSieve enumera todos los selectores CSS actualmente soportados"
   ]
  },
  {
   "cell_type": "markdown",
   "id": "steady-madagascar",
   "metadata": {},
   "source": [
    "## Manos a la obra"
   ]
  },
  {
   "cell_type": "markdown",
   "id": "front-majority",
   "metadata": {},
   "source": [
    "### Ejemplo 1 Página de zapatillas de deporte"
   ]
  },
  {
   "cell_type": "markdown",
   "id": "timely-nowhere",
   "metadata": {},
   "source": [
    "Recuerda que tienes que instalar la librería beautifulsoup    "
   ]
  },
  {
   "cell_type": "code",
   "execution_count": null,
   "id": "municipal-swedish",
   "metadata": {},
   "outputs": [],
   "source": [
    "#!pip install beautifulsoup4"
   ]
  },
  {
   "cell_type": "code",
   "execution_count": 23,
   "id": "professional-appreciation",
   "metadata": {},
   "outputs": [],
   "source": [
    "import requests\n",
    "from bs4 import BeautifulSoup"
   ]
  },
  {
   "cell_type": "code",
   "execution_count": 22,
   "id": "demonstrated-project",
   "metadata": {},
   "outputs": [],
   "source": [
    "import pandas as pd"
   ]
  },
  {
   "cell_type": "code",
   "execution_count": 20,
   "id": "broken-colombia",
   "metadata": {},
   "outputs": [],
   "source": [
    "url = \"https://www.murallasport.com/29-zapatillas-moda-mujer\""
   ]
  },
  {
   "cell_type": "code",
   "execution_count": 24,
   "id": "built-observation",
   "metadata": {},
   "outputs": [],
   "source": [
    "html = requests.get(url)"
   ]
  },
  {
   "cell_type": "code",
   "execution_count": 25,
   "id": "medium-registrar",
   "metadata": {},
   "outputs": [
    {
     "data": {
      "text/plain": [
       "<Response [200]>"
      ]
     },
     "execution_count": 25,
     "metadata": {},
     "output_type": "execute_result"
    }
   ],
   "source": [
    "html"
   ]
  },
  {
   "cell_type": "code",
   "execution_count": 26,
   "id": "checked-delaware",
   "metadata": {},
   "outputs": [],
   "source": [
    "soup = BeautifulSoup(html.content, \"html.parser\")"
   ]
  },
  {
   "cell_type": "code",
   "execution_count": null,
   "id": "bizarre-zoning",
   "metadata": {},
   "outputs": [],
   "source": [
    "#Seleccionamos los nombres de las zapatillas con el selector css utilizando select \n",
    "#obtenemos el mismo resultado que con findall"
   ]
  },
  {
   "cell_type": "code",
   "execution_count": 35,
   "id": "accepted-physiology",
   "metadata": {},
   "outputs": [],
   "source": [
    "productos = soup.findAll(\"div\",{\"class\": \"name_product_box\"})"
   ]
  },
  {
   "cell_type": "code",
   "execution_count": 39,
   "id": "funded-genesis",
   "metadata": {},
   "outputs": [
    {
     "data": {
      "text/plain": [
       "'Canvas Color Chuck Taylor All Star Move Low Top...'"
      ]
     },
     "execution_count": 39,
     "metadata": {},
     "output_type": "execute_result"
    }
   ],
   "source": [
    "productos[0].getText().strip()"
   ]
  },
  {
   "cell_type": "code",
   "execution_count": 41,
   "id": "raised-thompson",
   "metadata": {},
   "outputs": [],
   "source": [
    "lista_productos = [a.getText().strip() for a in productos]\n",
    "#lista_productos"
   ]
  },
  {
   "cell_type": "code",
   "execution_count": 42,
   "id": "consistent-morrison",
   "metadata": {},
   "outputs": [],
   "source": [
    "#otra sintaxis diferente PERO HACE LO MISMO\n",
    "productos = soup.find_all(name = \"div\", class_=\"name_product_box\")"
   ]
  },
  {
   "cell_type": "code",
   "execution_count": 46,
   "id": "express-embassy",
   "metadata": {},
   "outputs": [],
   "source": [
    "#sacamos las marcas también con el select / SELECT UTILIZA SELECTOR CSSS \"etiqueta.elnombredelaclasecss\"\n",
    "marcas = soup.select(\"span.marca-product-box\")"
   ]
  },
  {
   "cell_type": "code",
   "execution_count": 48,
   "id": "dressed-humanitarian",
   "metadata": {},
   "outputs": [
    {
     "data": {
      "text/plain": [
       "<span class=\"marca-product-box\">CONVERSE </span>"
      ]
     },
     "execution_count": 48,
     "metadata": {},
     "output_type": "execute_result"
    }
   ],
   "source": [
    "marcas[0]"
   ]
  },
  {
   "cell_type": "code",
   "execution_count": 49,
   "id": "confused-advocate",
   "metadata": {},
   "outputs": [
    {
     "data": {
      "text/plain": [
       "'CONVERSE '"
      ]
     },
     "execution_count": 49,
     "metadata": {},
     "output_type": "execute_result"
    }
   ],
   "source": [
    "marcas[0].getText()"
   ]
  },
  {
   "cell_type": "code",
   "execution_count": 52,
   "id": "brief-wound",
   "metadata": {},
   "outputs": [],
   "source": [
    "lista_marcas = [marca.getText().strip() for marca in marcas]\n",
    "#lista_marcas"
   ]
  },
  {
   "cell_type": "code",
   "execution_count": 53,
   "id": "modular-prediction",
   "metadata": {},
   "outputs": [],
   "source": [
    "#lista de precios\n",
    "precios = soup.findAll(\"div\", {\"class\": \"price_product_box\"})"
   ]
  },
  {
   "cell_type": "code",
   "execution_count": 56,
   "id": "related-puzzle",
   "metadata": {},
   "outputs": [
    {
     "data": {
      "text/plain": [
       "'71.20€\\n80.00€'"
      ]
     },
     "execution_count": 56,
     "metadata": {},
     "output_type": "execute_result"
    }
   ],
   "source": [
    "precios[0].getText().strip()"
   ]
  },
  {
   "cell_type": "code",
   "execution_count": 59,
   "id": "prompt-hundred",
   "metadata": {},
   "outputs": [
    {
     "data": {
      "text/plain": [
       "'85.00€'"
      ]
     },
     "execution_count": 59,
     "metadata": {},
     "output_type": "execute_result"
    }
   ],
   "source": [
    "precios[2].getText().strip()"
   ]
  },
  {
   "cell_type": "code",
   "execution_count": 64,
   "id": "accurate-tissue",
   "metadata": {},
   "outputs": [
    {
     "data": {
      "text/plain": [
       "<div class=\"price_product_box\">\n",
       "<span>71.20€</span>\n",
       "<span class=\"older-price\">80.00€</span>\n",
       "</div>"
      ]
     },
     "execution_count": 64,
     "metadata": {},
     "output_type": "execute_result"
    }
   ],
   "source": [
    "precios[0]"
   ]
  },
  {
   "cell_type": "code",
   "execution_count": 67,
   "id": "celtic-basics",
   "metadata": {},
   "outputs": [],
   "source": [
    "lista_precios = [precio.getText().strip() for precio in precios]"
   ]
  },
  {
   "cell_type": "code",
   "execution_count": 65,
   "id": "chicken-sewing",
   "metadata": {},
   "outputs": [],
   "source": [
    "prueba = soup.select(\"div.price_product_box\") #CON SELECTOR CSS IGUAL LOS PRECIOS"
   ]
  },
  {
   "cell_type": "code",
   "execution_count": 66,
   "id": "alike-generator",
   "metadata": {},
   "outputs": [
    {
     "data": {
      "text/plain": [
       "<div class=\"price_product_box\">\n",
       "<span>71.20€</span>\n",
       "<span class=\"older-price\">80.00€</span>\n",
       "</div>"
      ]
     },
     "execution_count": 66,
     "metadata": {},
     "output_type": "execute_result"
    }
   ],
   "source": [
    "prueba[0]"
   ]
  },
  {
   "cell_type": "code",
   "execution_count": 76,
   "id": "worst-zealand",
   "metadata": {},
   "outputs": [],
   "source": [
    "enlaces = soup.select(\"div.name_product_box\")"
   ]
  },
  {
   "cell_type": "code",
   "execution_count": 138,
   "id": "coral-compilation",
   "metadata": {},
   "outputs": [
    {
     "data": {
      "text/plain": [
       "['name_product_box']"
      ]
     },
     "execution_count": 138,
     "metadata": {},
     "output_type": "execute_result"
    }
   ],
   "source": [
    "enlaces_[0].get(\"class\")"
   ]
  },
  {
   "cell_type": "code",
   "execution_count": 127,
   "id": "comparative-literacy",
   "metadata": {},
   "outputs": [],
   "source": [
    "enlaces_ = soup.find_all(\"div\", {\"class\":\"name_product_box\"})"
   ]
  },
  {
   "cell_type": "code",
   "execution_count": 139,
   "id": "mature-dialogue",
   "metadata": {},
   "outputs": [
    {
     "data": {
      "text/plain": [
       "'/producto/2500-canvas-color-chuck-taylor-all-star-move-low-top-negro'"
      ]
     },
     "execution_count": 139,
     "metadata": {},
     "output_type": "execute_result"
    }
   ],
   "source": [
    "enlaces_[0].find(\"a\").get(\"href\")"
   ]
  },
  {
   "cell_type": "code",
   "execution_count": 143,
   "id": "acquired-happening",
   "metadata": {},
   "outputs": [],
   "source": [
    "lista_enlaces = [f\"https://www.murallasport.com{elemento.find('a').get('href')}\" for elemento in enlaces_]"
   ]
  },
  {
   "cell_type": "code",
   "execution_count": 144,
   "id": "negative-baseline",
   "metadata": {},
   "outputs": [
    {
     "data": {
      "text/plain": [
       "['https://www.murallasport.com/producto/2500-canvas-color-chuck-taylor-all-star-move-low-top-negro',\n",
       " 'https://www.murallasport.com/producto/2499-zapatilla-canvas-color-chuck-taylor-all-star-move-low-top',\n",
       " 'https://www.murallasport.com/producto/2319-zapatilla-mujer-converse-lift-hi-top-beige',\n",
       " 'https://www.murallasport.com/producto/1221-zapatillas-mujer-reebok-legacy-83-verde',\n",
       " 'https://www.murallasport.com/producto/1227-zapatilla-adidas-mujer-courtphase-blanco',\n",
       " 'https://www.murallasport.com/producto/2961-zapatilla-adidas-terrex-ax3-gtx-fluor',\n",
       " 'https://www.murallasport.com/producto/3216-zapatilla-mujer-nike-air-max-bella-4-violeta',\n",
       " 'https://www.murallasport.com/producto/2438-zapatilla-mujer-nike-air-max-excee-blanco',\n",
       " 'https://www.murallasport.com/producto/2721-zapatilla-mujer-new-balance-996-rosa',\n",
       " 'https://www.murallasport.com/producto/2521-zapatilla-mujer-new-balance-574-rosa',\n",
       " 'https://www.murallasport.com/producto/2557-zapatilla-mujer-new-balance-373-azul',\n",
       " 'https://www.murallasport.com/producto/2558-zapatilla-mujer-new-balance-373-gris',\n",
       " 'https://www.murallasport.com/producto/2623-zapatilla-mujer-new-balance-574-azul',\n",
       " 'https://www.murallasport.com/producto/2751-zapatilla-mujer-new-balance-237-negro',\n",
       " 'https://www.murallasport.com/producto/3159-zapatilla-mujer-new-balance-237-gris',\n",
       " 'https://www.murallasport.com/producto/1224-zapatilla-mujer-converse-move-hi-negro',\n",
       " 'https://www.murallasport.com/producto/1222-zapatilla-mujer-converse-move-hi-top-blanca',\n",
       " 'https://www.murallasport.com/producto/2582-zapatilla-mujer-converse-all-star-lugged-hi-negro',\n",
       " 'https://www.murallasport.com/producto/2823-zapatilla-mujer-converse-all-star-hi-lift-negro',\n",
       " 'https://www.murallasport.com/producto/2471-zapatilla-mujer-skechers-bobs-flex-blanco',\n",
       " 'https://www.murallasport.com/producto/2473-zapatilla-mujer-skechers-bobs-squad-celeste',\n",
       " 'https://www.murallasport.com/producto/2472-zapatilla-mujer-skechers-bobs-squad-gris',\n",
       " 'https://www.murallasport.com/producto/2470-zapatilla-mujer-skechers-ultraflex-marino',\n",
       " 'https://www.murallasport.com/producto/2469-zapatilla-mujer-skechers-ultra-flex-2-0-negro']"
      ]
     },
     "execution_count": 144,
     "metadata": {},
     "output_type": "execute_result"
    }
   ],
   "source": [
    "lista_enlaces"
   ]
  },
  {
   "cell_type": "code",
   "execution_count": 145,
   "id": "beneficial-quality",
   "metadata": {},
   "outputs": [],
   "source": [
    "diccionario = {\"nombre\": lista_productos, \"marca\":lista_marcas, \"precio\":lista_precios, \"enlace\":lista_enlaces}"
   ]
  },
  {
   "cell_type": "code",
   "execution_count": 146,
   "id": "suburban-flight",
   "metadata": {},
   "outputs": [],
   "source": [
    "data = pd.DataFrame(diccionario)"
   ]
  },
  {
   "cell_type": "code",
   "execution_count": 147,
   "id": "jewish-parts",
   "metadata": {},
   "outputs": [
    {
     "data": {
      "text/html": [
       "<div>\n",
       "<style scoped>\n",
       "    .dataframe tbody tr th:only-of-type {\n",
       "        vertical-align: middle;\n",
       "    }\n",
       "\n",
       "    .dataframe tbody tr th {\n",
       "        vertical-align: top;\n",
       "    }\n",
       "\n",
       "    .dataframe thead th {\n",
       "        text-align: right;\n",
       "    }\n",
       "</style>\n",
       "<table border=\"1\" class=\"dataframe\">\n",
       "  <thead>\n",
       "    <tr style=\"text-align: right;\">\n",
       "      <th></th>\n",
       "      <th>nombre</th>\n",
       "      <th>marca</th>\n",
       "      <th>precio</th>\n",
       "      <th>enlace</th>\n",
       "    </tr>\n",
       "  </thead>\n",
       "  <tbody>\n",
       "    <tr>\n",
       "      <th>0</th>\n",
       "      <td>Canvas Color Chuck Taylor All Star Move Low To...</td>\n",
       "      <td>CONVERSE</td>\n",
       "      <td>71.20€\\n80.00€</td>\n",
       "      <td>https://www.murallasport.com/producto/2500-can...</td>\n",
       "    </tr>\n",
       "    <tr>\n",
       "      <th>1</th>\n",
       "      <td>Zapatilla Canvas Color Chuck Taylor All Star M...</td>\n",
       "      <td>CONVERSE</td>\n",
       "      <td>72.00€\\n80.00€</td>\n",
       "      <td>https://www.murallasport.com/producto/2499-zap...</td>\n",
       "    </tr>\n",
       "    <tr>\n",
       "      <th>2</th>\n",
       "      <td>Zapatilla Mujer  Converse Lift  Hi Top  Beige</td>\n",
       "      <td>CONVERSE</td>\n",
       "      <td>85.00€</td>\n",
       "      <td>https://www.murallasport.com/producto/2319-zap...</td>\n",
       "    </tr>\n",
       "    <tr>\n",
       "      <th>3</th>\n",
       "      <td>Zapatillas Mujer  Reebok Legacy 83  Verde</td>\n",
       "      <td>REEBOK</td>\n",
       "      <td>68.00€\\n100.00€</td>\n",
       "      <td>https://www.murallasport.com/producto/1221-zap...</td>\n",
       "    </tr>\n",
       "    <tr>\n",
       "      <th>4</th>\n",
       "      <td>Zapatilla Adidas Mujer Courtphase Blanco</td>\n",
       "      <td>ADIDAS</td>\n",
       "      <td>70.00€</td>\n",
       "      <td>https://www.murallasport.com/producto/1227-zap...</td>\n",
       "    </tr>\n",
       "  </tbody>\n",
       "</table>\n",
       "</div>"
      ],
      "text/plain": [
       "                                              nombre     marca  \\\n",
       "0  Canvas Color Chuck Taylor All Star Move Low To...  CONVERSE   \n",
       "1  Zapatilla Canvas Color Chuck Taylor All Star M...  CONVERSE   \n",
       "2      Zapatilla Mujer  Converse Lift  Hi Top  Beige  CONVERSE   \n",
       "3          Zapatillas Mujer  Reebok Legacy 83  Verde    REEBOK   \n",
       "4           Zapatilla Adidas Mujer Courtphase Blanco    ADIDAS   \n",
       "\n",
       "            precio                                             enlace  \n",
       "0   71.20€\\n80.00€  https://www.murallasport.com/producto/2500-can...  \n",
       "1   72.00€\\n80.00€  https://www.murallasport.com/producto/2499-zap...  \n",
       "2           85.00€  https://www.murallasport.com/producto/2319-zap...  \n",
       "3  68.00€\\n100.00€  https://www.murallasport.com/producto/1221-zap...  \n",
       "4           70.00€  https://www.murallasport.com/producto/1227-zap...  "
      ]
     },
     "execution_count": 147,
     "metadata": {},
     "output_type": "execute_result"
    }
   ],
   "source": [
    "data.head()"
   ]
  },
  {
   "cell_type": "code",
   "execution_count": 156,
   "id": "collected-parent",
   "metadata": {},
   "outputs": [],
   "source": [
    "def limpiamos_precio(x):\n",
    "    split = x.split(\"\\n\")\n",
    "    if len(split) >1:\n",
    "        return split[1]\n",
    "    else:\n",
    "        return x"
   ]
  },
  {
   "cell_type": "code",
   "execution_count": 157,
   "id": "innocent-jamaica",
   "metadata": {},
   "outputs": [],
   "source": [
    "data[\"precio_viejo\"] = data.precio.apply(limpiamos_precio)"
   ]
  },
  {
   "cell_type": "code",
   "execution_count": 153,
   "id": "muslim-investor",
   "metadata": {},
   "outputs": [],
   "source": [
    "data[\"precio_nuevo\"] = data.apply(lambda fila: fila[\"precio\"].split(\"\\n\")[0], axis=1)"
   ]
  },
  {
   "cell_type": "code",
   "execution_count": 158,
   "id": "concrete-waste",
   "metadata": {},
   "outputs": [
    {
     "data": {
      "text/html": [
       "<div>\n",
       "<style scoped>\n",
       "    .dataframe tbody tr th:only-of-type {\n",
       "        vertical-align: middle;\n",
       "    }\n",
       "\n",
       "    .dataframe tbody tr th {\n",
       "        vertical-align: top;\n",
       "    }\n",
       "\n",
       "    .dataframe thead th {\n",
       "        text-align: right;\n",
       "    }\n",
       "</style>\n",
       "<table border=\"1\" class=\"dataframe\">\n",
       "  <thead>\n",
       "    <tr style=\"text-align: right;\">\n",
       "      <th></th>\n",
       "      <th>nombre</th>\n",
       "      <th>marca</th>\n",
       "      <th>precio</th>\n",
       "      <th>enlace</th>\n",
       "      <th>precio_nuevo</th>\n",
       "      <th>precio_viejo</th>\n",
       "    </tr>\n",
       "  </thead>\n",
       "  <tbody>\n",
       "    <tr>\n",
       "      <th>0</th>\n",
       "      <td>Canvas Color Chuck Taylor All Star Move Low To...</td>\n",
       "      <td>CONVERSE</td>\n",
       "      <td>71.20€\\n80.00€</td>\n",
       "      <td>https://www.murallasport.com/producto/2500-can...</td>\n",
       "      <td>71.20€</td>\n",
       "      <td>80.00€</td>\n",
       "    </tr>\n",
       "    <tr>\n",
       "      <th>1</th>\n",
       "      <td>Zapatilla Canvas Color Chuck Taylor All Star M...</td>\n",
       "      <td>CONVERSE</td>\n",
       "      <td>72.00€\\n80.00€</td>\n",
       "      <td>https://www.murallasport.com/producto/2499-zap...</td>\n",
       "      <td>72.00€</td>\n",
       "      <td>80.00€</td>\n",
       "    </tr>\n",
       "    <tr>\n",
       "      <th>2</th>\n",
       "      <td>Zapatilla Mujer  Converse Lift  Hi Top  Beige</td>\n",
       "      <td>CONVERSE</td>\n",
       "      <td>85.00€</td>\n",
       "      <td>https://www.murallasport.com/producto/2319-zap...</td>\n",
       "      <td>85.00€</td>\n",
       "      <td>85.00€</td>\n",
       "    </tr>\n",
       "    <tr>\n",
       "      <th>3</th>\n",
       "      <td>Zapatillas Mujer  Reebok Legacy 83  Verde</td>\n",
       "      <td>REEBOK</td>\n",
       "      <td>68.00€\\n100.00€</td>\n",
       "      <td>https://www.murallasport.com/producto/1221-zap...</td>\n",
       "      <td>68.00€</td>\n",
       "      <td>100.00€</td>\n",
       "    </tr>\n",
       "    <tr>\n",
       "      <th>4</th>\n",
       "      <td>Zapatilla Adidas Mujer Courtphase Blanco</td>\n",
       "      <td>ADIDAS</td>\n",
       "      <td>70.00€</td>\n",
       "      <td>https://www.murallasport.com/producto/1227-zap...</td>\n",
       "      <td>70.00€</td>\n",
       "      <td>70.00€</td>\n",
       "    </tr>\n",
       "  </tbody>\n",
       "</table>\n",
       "</div>"
      ],
      "text/plain": [
       "                                              nombre     marca  \\\n",
       "0  Canvas Color Chuck Taylor All Star Move Low To...  CONVERSE   \n",
       "1  Zapatilla Canvas Color Chuck Taylor All Star M...  CONVERSE   \n",
       "2      Zapatilla Mujer  Converse Lift  Hi Top  Beige  CONVERSE   \n",
       "3          Zapatillas Mujer  Reebok Legacy 83  Verde    REEBOK   \n",
       "4           Zapatilla Adidas Mujer Courtphase Blanco    ADIDAS   \n",
       "\n",
       "            precio                                             enlace  \\\n",
       "0   71.20€\\n80.00€  https://www.murallasport.com/producto/2500-can...   \n",
       "1   72.00€\\n80.00€  https://www.murallasport.com/producto/2499-zap...   \n",
       "2           85.00€  https://www.murallasport.com/producto/2319-zap...   \n",
       "3  68.00€\\n100.00€  https://www.murallasport.com/producto/1221-zap...   \n",
       "4           70.00€  https://www.murallasport.com/producto/1227-zap...   \n",
       "\n",
       "  precio_nuevo precio_viejo  \n",
       "0       71.20€       80.00€  \n",
       "1       72.00€       80.00€  \n",
       "2       85.00€       85.00€  \n",
       "3       68.00€      100.00€  \n",
       "4       70.00€       70.00€  "
      ]
     },
     "execution_count": 158,
     "metadata": {},
     "output_type": "execute_result"
    }
   ],
   "source": [
    "data.head()"
   ]
  },
  {
   "cell_type": "code",
   "execution_count": 159,
   "id": "bound-repair",
   "metadata": {},
   "outputs": [],
   "source": [
    "producto_concreto = requests.get(\"https://www.murallasport.com/producto/2500-canvas-color-chuck-taylor-all-star-move-low-top-negro\")"
   ]
  },
  {
   "cell_type": "code",
   "execution_count": 162,
   "id": "rising-registrar",
   "metadata": {},
   "outputs": [],
   "source": [
    "soup_prod = BeautifulSoup(producto_concreto.content, \"html.parser\")"
   ]
  },
  {
   "cell_type": "code",
   "execution_count": 168,
   "id": "induced-austin",
   "metadata": {},
   "outputs": [],
   "source": [
    "textaco = soup_prod.findAll(\"div\", {\"class\":\"txt-description-product tab-pane active\"})"
   ]
  },
  {
   "cell_type": "code",
   "execution_count": 172,
   "id": "elementary-argentina",
   "metadata": {},
   "outputs": [
    {
     "data": {
      "text/plain": [
       "'UN NIVEL SUPERIOR. Una plataforma llamativa y explosiva aporta nueva energía a estas Chucks clásicas. Diseñadas para ofrecer libertad de movimientos, la plataforma ligera y moldeada aporta altura pero no peso. Sube de nivel con estilo.'"
      ]
     },
     "execution_count": 172,
     "metadata": {},
     "output_type": "execute_result"
    }
   ],
   "source": [
    "textaco[0].getText().strip()"
   ]
  },
  {
   "cell_type": "code",
   "execution_count": 174,
   "id": "prepared-margin",
   "metadata": {},
   "outputs": [],
   "source": [
    "def funcionzaca_epica(enlace):\n",
    "    res = requests.get(enlace)\n",
    "    soup = BeautifulSoup(res.content,\"html.parser\")\n",
    "    textaco = soup.findAll(\"div\", {\"class\":\"txt-description-product tab-pane active\"})\n",
    "    return textaco[0].getText().strip()"
   ]
  },
  {
   "cell_type": "code",
   "execution_count": 175,
   "id": "generic-passport",
   "metadata": {},
   "outputs": [],
   "source": [
    "data[\"descripción\"] = data.enlace.apply(funcionzaca_epica)"
   ]
  },
  {
   "cell_type": "code",
   "execution_count": 176,
   "id": "collected-medication",
   "metadata": {},
   "outputs": [
    {
     "data": {
      "text/html": [
       "<div>\n",
       "<style scoped>\n",
       "    .dataframe tbody tr th:only-of-type {\n",
       "        vertical-align: middle;\n",
       "    }\n",
       "\n",
       "    .dataframe tbody tr th {\n",
       "        vertical-align: top;\n",
       "    }\n",
       "\n",
       "    .dataframe thead th {\n",
       "        text-align: right;\n",
       "    }\n",
       "</style>\n",
       "<table border=\"1\" class=\"dataframe\">\n",
       "  <thead>\n",
       "    <tr style=\"text-align: right;\">\n",
       "      <th></th>\n",
       "      <th>nombre</th>\n",
       "      <th>marca</th>\n",
       "      <th>precio</th>\n",
       "      <th>enlace</th>\n",
       "      <th>precio_nuevo</th>\n",
       "      <th>precio_viejo</th>\n",
       "      <th>descripción</th>\n",
       "    </tr>\n",
       "  </thead>\n",
       "  <tbody>\n",
       "    <tr>\n",
       "      <th>0</th>\n",
       "      <td>Canvas Color Chuck Taylor All Star Move Low To...</td>\n",
       "      <td>CONVERSE</td>\n",
       "      <td>71.20€\\n80.00€</td>\n",
       "      <td>https://www.murallasport.com/producto/2500-can...</td>\n",
       "      <td>71.20€</td>\n",
       "      <td>80.00€</td>\n",
       "      <td>UN NIVEL SUPERIOR. Una plataforma llamativa y ...</td>\n",
       "    </tr>\n",
       "    <tr>\n",
       "      <th>1</th>\n",
       "      <td>Zapatilla Canvas Color Chuck Taylor All Star M...</td>\n",
       "      <td>CONVERSE</td>\n",
       "      <td>72.00€\\n80.00€</td>\n",
       "      <td>https://www.murallasport.com/producto/2499-zap...</td>\n",
       "      <td>72.00€</td>\n",
       "      <td>80.00€</td>\n",
       "      <td>UN NIVEL SUPERIOR. Una plataforma llamativa y ...</td>\n",
       "    </tr>\n",
       "    <tr>\n",
       "      <th>2</th>\n",
       "      <td>Zapatilla Mujer  Converse Lift  Hi Top  Beige</td>\n",
       "      <td>CONVERSE</td>\n",
       "      <td>85.00€</td>\n",
       "      <td>https://www.murallasport.com/producto/2319-zap...</td>\n",
       "      <td>85.00€</td>\n",
       "      <td>85.00€</td>\n",
       "      <td>Sube de nivel con estilo con las Chuck con pla...</td>\n",
       "    </tr>\n",
       "    <tr>\n",
       "      <th>3</th>\n",
       "      <td>Zapatillas Mujer  Reebok Legacy 83  Verde</td>\n",
       "      <td>REEBOK</td>\n",
       "      <td>68.00€\\n100.00€</td>\n",
       "      <td>https://www.murallasport.com/producto/1221-zap...</td>\n",
       "      <td>68.00€</td>\n",
       "      <td>100.00€</td>\n",
       "      <td>Zapatilla Reebok Legacy 83 para mujer, de horm...</td>\n",
       "    </tr>\n",
       "    <tr>\n",
       "      <th>4</th>\n",
       "      <td>Zapatilla Adidas Mujer Courtphase Blanco</td>\n",
       "      <td>ADIDAS</td>\n",
       "      <td>70.00€</td>\n",
       "      <td>https://www.murallasport.com/producto/1227-zap...</td>\n",
       "      <td>70.00€</td>\n",
       "      <td>70.00€</td>\n",
       "      <td>Zapatilla adidas Courtphase para mujer, de hor...</td>\n",
       "    </tr>\n",
       "  </tbody>\n",
       "</table>\n",
       "</div>"
      ],
      "text/plain": [
       "                                              nombre     marca  \\\n",
       "0  Canvas Color Chuck Taylor All Star Move Low To...  CONVERSE   \n",
       "1  Zapatilla Canvas Color Chuck Taylor All Star M...  CONVERSE   \n",
       "2      Zapatilla Mujer  Converse Lift  Hi Top  Beige  CONVERSE   \n",
       "3          Zapatillas Mujer  Reebok Legacy 83  Verde    REEBOK   \n",
       "4           Zapatilla Adidas Mujer Courtphase Blanco    ADIDAS   \n",
       "\n",
       "            precio                                             enlace  \\\n",
       "0   71.20€\\n80.00€  https://www.murallasport.com/producto/2500-can...   \n",
       "1   72.00€\\n80.00€  https://www.murallasport.com/producto/2499-zap...   \n",
       "2           85.00€  https://www.murallasport.com/producto/2319-zap...   \n",
       "3  68.00€\\n100.00€  https://www.murallasport.com/producto/1221-zap...   \n",
       "4           70.00€  https://www.murallasport.com/producto/1227-zap...   \n",
       "\n",
       "  precio_nuevo precio_viejo                                        descripción  \n",
       "0       71.20€       80.00€  UN NIVEL SUPERIOR. Una plataforma llamativa y ...  \n",
       "1       72.00€       80.00€  UN NIVEL SUPERIOR. Una plataforma llamativa y ...  \n",
       "2       85.00€       85.00€  Sube de nivel con estilo con las Chuck con pla...  \n",
       "3       68.00€      100.00€  Zapatilla Reebok Legacy 83 para mujer, de horm...  \n",
       "4       70.00€       70.00€  Zapatilla adidas Courtphase para mujer, de hor...  "
      ]
     },
     "execution_count": 176,
     "metadata": {},
     "output_type": "execute_result"
    }
   ],
   "source": [
    "data.head()"
   ]
  },
  {
   "cell_type": "code",
   "execution_count": 178,
   "id": "damaged-publisher",
   "metadata": {},
   "outputs": [
    {
     "data": {
      "text/plain": [
       "'UN NIVEL SUPERIOR. Una plataforma llamativa y explosiva aporta nueva energía a estas Chucks clásicas. Diseñadas para ofrecer libertad de movimientos, la plataforma ligera y moldeada aporta altura pero no peso. Sube de nivel con estilo.'"
      ]
     },
     "execution_count": 178,
     "metadata": {},
     "output_type": "execute_result"
    }
   ],
   "source": [
    "data.loc[0][\"descripción\"]"
   ]
  },
  {
   "cell_type": "markdown",
   "id": "compressed-gnome",
   "metadata": {},
   "source": [
    "### Ejemplo Amazon"
   ]
  },
  {
   "cell_type": "code",
   "execution_count": 240,
   "id": "pharmaceutical-yorkshire",
   "metadata": {},
   "outputs": [],
   "source": [
    "korg = \"https://www.amazon.es/s?k=nord+electro&__mk_es_ES=%C3%85M%C3%85%C5%BD%C3%95%C3%91&ref=nb_sb_noss_2s\""
   ]
  },
  {
   "cell_type": "code",
   "execution_count": 245,
   "id": "furnished-bracelet",
   "metadata": {},
   "outputs": [],
   "source": [
    "res_korg = requests.get(korg)\n",
    "soup_korg = BeautifulSoup(res_korg.content, \"html.parser\")"
   ]
  },
  {
   "cell_type": "code",
   "execution_count": 263,
   "id": "electoral-saudi",
   "metadata": {},
   "outputs": [],
   "source": [
    "#soup_korg #Este tampoco lo imprimo, pero Amazon sabe que estoy usando una librería y me sugiere un captcha"
   ]
  },
  {
   "cell_type": "markdown",
   "id": "chubby-jersey",
   "metadata": {},
   "source": [
    "### Qué cabrones ¿eh? \n",
    "(A veces tira) Si nos da un status code 503, entonces probad con esto 👇🏻"
   ]
  },
  {
   "cell_type": "code",
   "execution_count": 250,
   "id": "separated-productivity",
   "metadata": {},
   "outputs": [],
   "source": [
    "HEADERS = ({'User-Agent':\n",
    "           \"Mozilla/5.0 (X11; Linux x86_64)AppleWebKit/537.36 (KHTML, like Gecko)Chrome/44.0.2403.157 Safari/537.36\",\n",
    "            'Accept-Language': 'en-US, en;q=0.5'})\n",
    " \n",
    "webpage = requests.get(korg, headers=HEADERS)\n",
    "soup_2 = BeautifulSoup(webpage.content, \"lxml\")"
   ]
  },
  {
   "cell_type": "code",
   "execution_count": 253,
   "id": "nuclear-indonesia",
   "metadata": {},
   "outputs": [],
   "source": [
    "## De todos modos ya hemos visto en clase las trabitas que nos pone amazon para screapear de forma tradicional..."
   ]
  },
  {
   "cell_type": "markdown",
   "id": "pointed-massage",
   "metadata": {},
   "source": [
    "### ¿TODO ESTO PARA NADA?\n",
    "Exacto, veremos que esto es un simple sistema de seguridad anti scrapeo, veremos una librería con la que podremos hacerlo de otra manera....       \n",
    "![lafoto](../images/amazon.png)"
   ]
  },
  {
   "cell_type": "markdown",
   "id": "experimental-program",
   "metadata": {},
   "source": [
    "### Ejemplo wikipedia medallero"
   ]
  },
  {
   "cell_type": "code",
   "execution_count": 180,
   "id": "moral-routine",
   "metadata": {},
   "outputs": [],
   "source": [
    "url_medallero='https://es.wikipedia.org/wiki/Juegos_Ol%C3%ADmpicos_de_Barcelona_1992'\n",
    "html_medallero = requests.get(url_medallero)"
   ]
  },
  {
   "cell_type": "code",
   "execution_count": 181,
   "id": "secure-enlargement",
   "metadata": {},
   "outputs": [],
   "source": [
    "#soup\n",
    "soup_med = BeautifulSoup(html_medallero.content, \"html.parser\")"
   ]
  },
  {
   "cell_type": "code",
   "execution_count": 182,
   "id": "collectible-bulgarian",
   "metadata": {},
   "outputs": [],
   "source": [
    "#Tablas :)\n",
    "tablas = soup_med.findAll(\"table\")"
   ]
  },
  {
   "cell_type": "code",
   "execution_count": 185,
   "id": "persistent-consumption",
   "metadata": {},
   "outputs": [],
   "source": [
    "#tablas[-1]"
   ]
  },
  {
   "cell_type": "code",
   "execution_count": 187,
   "id": "maritime-hypothesis",
   "metadata": {},
   "outputs": [
    {
     "data": {
      "text/plain": [
       "<a href=\"/wiki/Control_de_autoridades\" title=\"Control de autoridades\">Control de autoridades</a>"
      ]
     },
     "execution_count": 187,
     "metadata": {},
     "output_type": "execute_result"
    }
   ],
   "source": [
    "# Aquí hemos seleccionado la última tabla de la página de wikipedia\n",
    "elemento = tablas[-1].find_all(\"a\")[0]\n",
    "elemento"
   ]
  },
  {
   "cell_type": "markdown",
   "id": "searching-sight",
   "metadata": {},
   "source": [
    "Algunos métodos de soup cuando ya tengo un elemento seleccionado por su etiqueta, por ejemplo."
   ]
  },
  {
   "cell_type": "code",
   "execution_count": 200,
   "id": "virtual-austria",
   "metadata": {},
   "outputs": [],
   "source": [
    "#dir(elemento)"
   ]
  },
  {
   "cell_type": "code",
   "execution_count": 188,
   "id": "fuzzy-struggle",
   "metadata": {},
   "outputs": [
    {
     "data": {
      "text/plain": [
       "{'href': '/wiki/Control_de_autoridades', 'title': 'Control de autoridades'}"
      ]
     },
     "execution_count": 188,
     "metadata": {},
     "output_type": "execute_result"
    }
   ],
   "source": [
    "elemento.attrs"
   ]
  },
  {
   "cell_type": "code",
   "execution_count": 189,
   "id": "intense-broad",
   "metadata": {},
   "outputs": [
    {
     "data": {
      "text/plain": [
       "'Control de autoridades'"
      ]
     },
     "execution_count": 189,
     "metadata": {},
     "output_type": "execute_result"
    }
   ],
   "source": [
    "elemento.text"
   ]
  },
  {
   "cell_type": "code",
   "execution_count": 190,
   "id": "necessary-ebony",
   "metadata": {},
   "outputs": [
    {
     "data": {
      "text/plain": [
       "['Control de autoridades']"
      ]
     },
     "execution_count": 190,
     "metadata": {},
     "output_type": "execute_result"
    }
   ],
   "source": [
    "elemento.contents"
   ]
  },
  {
   "cell_type": "code",
   "execution_count": 196,
   "id": "phantom-runner",
   "metadata": {},
   "outputs": [],
   "source": [
    "guardo_divs = soup_med.findAll(\"div\")"
   ]
  },
  {
   "cell_type": "code",
   "execution_count": 198,
   "id": "amino-liechtenstein",
   "metadata": {},
   "outputs": [
    {
     "data": {
      "text/plain": [
       "{'id': 'mw-page-base', 'class': ['noprint']}"
      ]
     },
     "execution_count": 198,
     "metadata": {},
     "output_type": "execute_result"
    }
   ],
   "source": [
    "guardo_divs[0].attrs"
   ]
  },
  {
   "cell_type": "markdown",
   "id": "chubby-software",
   "metadata": {},
   "source": [
    "![elmedallero](../images/captura_medallero.png)"
   ]
  },
  {
   "cell_type": "code",
   "execution_count": 201,
   "id": "convenient-valuation",
   "metadata": {},
   "outputs": [],
   "source": [
    "# Busco todo lo que tenga la etiqueta \"a\" y como findall me devuelve una lista, me quedo con el primer elemento\n",
    "medallero = soup_med.findAll(\"table\")[-4]"
   ]
  },
  {
   "cell_type": "code",
   "execution_count": 208,
   "id": "round-sarah",
   "metadata": {},
   "outputs": [
    {
     "data": {
      "text/plain": [
       "<td>1</td>"
      ]
     },
     "execution_count": 208,
     "metadata": {},
     "output_type": "execute_result"
    }
   ],
   "source": [
    "medallero.findAll(\"tr\")[1].findAll(\"td\")[0]"
   ]
  },
  {
   "cell_type": "code",
   "execution_count": 209,
   "id": "conceptual-soccer",
   "metadata": {},
   "outputs": [
    {
     "data": {
      "text/plain": [
       "<td align=\"left\"><img alt=\"Equipo Unificado\" class=\"thumbborder\" data-file-height=\"600\" data-file-width=\"900\" decoding=\"async\" height=\"15\" src=\"//upload.wikimedia.org/wikipedia/commons/thumb/a/a7/Olympic_flag.svg/22px-Olympic_flag.svg.png\" srcset=\"//upload.wikimedia.org/wikipedia/commons/thumb/a/a7/Olympic_flag.svg/33px-Olympic_flag.svg.png 1.5x, //upload.wikimedia.org/wikipedia/commons/thumb/a/a7/Olympic_flag.svg/44px-Olympic_flag.svg.png 2x\" width=\"22\"/> <a href=\"/wiki/Equipo_Unificado_en_los_Juegos_Ol%C3%ADmpicos_de_Barcelona_1992\" title=\"Equipo Unificado en los Juegos Olímpicos de Barcelona 1992\">Equipo Unificado </a> <small>(EUN)</small></td>"
      ]
     },
     "execution_count": 209,
     "metadata": {},
     "output_type": "execute_result"
    }
   ],
   "source": [
    "medallero.findAll(\"tr\")[1].findAll(\"td\")[1]"
   ]
  },
  {
   "cell_type": "code",
   "execution_count": null,
   "id": "tired-philosophy",
   "metadata": {},
   "outputs": [],
   "source": [
    "# Tenemos que sacar el texto de los países y parece un poquito más peliagudo pero ya veréis que no"
   ]
  },
  {
   "cell_type": "code",
   "execution_count": 213,
   "id": "classified-polls",
   "metadata": {},
   "outputs": [
    {
     "data": {
      "text/plain": [
       "<a href=\"/wiki/Equipo_Unificado_en_los_Juegos_Ol%C3%ADmpicos_de_Barcelona_1992\" title=\"Equipo Unificado en los Juegos Olímpicos de Barcelona 1992\">Equipo Unificado </a>"
      ]
     },
     "execution_count": 213,
     "metadata": {},
     "output_type": "execute_result"
    }
   ],
   "source": [
    "medallero.findAll(\"tr\")[1].findAll(\"td\")[1].find(\"a\") # FIND ME DA EL PRIMER ELEMENTO CON ETIQUETA \"a\""
   ]
  },
  {
   "cell_type": "markdown",
   "id": "suspended-primary",
   "metadata": {},
   "source": [
    "## whatafack is a td        \n",
    "The HTML <td> tag defines a standard cell in an HTML table. It will contain data for the table, and not table headings. This tag is also commonly referred to as the <td> element."
   ]
  },
  {
   "cell_type": "code",
   "execution_count": 216,
   "id": "expensive-segment",
   "metadata": {},
   "outputs": [
    {
     "data": {
      "text/plain": [
       "'Equipo Unificado'"
      ]
     },
     "execution_count": 216,
     "metadata": {},
     "output_type": "execute_result"
    }
   ],
   "source": [
    "medallero.findAll(\"tr\")[1].findAll(\"td\")[1].find(\"a\").getText().strip()"
   ]
  },
  {
   "cell_type": "code",
   "execution_count": 217,
   "id": "published-sharp",
   "metadata": {},
   "outputs": [
    {
     "data": {
      "text/plain": [
       "'Equipo Unificado en los Juegos Olímpicos de Barcelona 1992'"
      ]
     },
     "execution_count": 217,
     "metadata": {},
     "output_type": "execute_result"
    }
   ],
   "source": [
    "medallero.findAll(\"tr\")[1].findAll(\"td\")[1].find(\"a\").get(\"title\") # EXTRAYENDO TEXTO DEL ATRIBUTO TITLE DEL ENLACE"
   ]
  },
  {
   "cell_type": "code",
   "execution_count": 211,
   "id": "emerging-identity",
   "metadata": {},
   "outputs": [
    {
     "data": {
      "text/plain": [
       "'45'"
      ]
     },
     "execution_count": 211,
     "metadata": {},
     "output_type": "execute_result"
    }
   ],
   "source": [
    "medallero.findAll(\"tr\")[1].findAll(\"td\")[2].getText()"
   ]
  },
  {
   "cell_type": "code",
   "execution_count": 224,
   "id": "compatible-program",
   "metadata": {},
   "outputs": [],
   "source": [
    "med_paises = []\n",
    "for f in medallero.find_all(\"tr\"): #LISTA CON LAS FILAS DE LA TABLA\n",
    "    fila = [elemento for elemento in f.find_all(\"td\")] # ELEMENTOS DENTRO DE CADA FILA\n",
    "    if len(fila) > 1:\n",
    "        diccionario_2 = {\"nombre\": fila[1].find(\"a\").getText().strip(),\n",
    "                      \"oro\": int(fila[2].text),\n",
    "                      \"plata\": int(fila[3].text),\n",
    "                      \"bronce\":int(fila[4].text)}\n",
    "        med_paises.append(diccionario_2)"
   ]
  },
  {
   "cell_type": "code",
   "execution_count": 225,
   "id": "intelligent-breeding",
   "metadata": {},
   "outputs": [],
   "source": [
    "data_total = pd.DataFrame(med_paises)"
   ]
  },
  {
   "cell_type": "code",
   "execution_count": 226,
   "id": "legal-tactics",
   "metadata": {},
   "outputs": [
    {
     "data": {
      "text/html": [
       "<div>\n",
       "<style scoped>\n",
       "    .dataframe tbody tr th:only-of-type {\n",
       "        vertical-align: middle;\n",
       "    }\n",
       "\n",
       "    .dataframe tbody tr th {\n",
       "        vertical-align: top;\n",
       "    }\n",
       "\n",
       "    .dataframe thead th {\n",
       "        text-align: right;\n",
       "    }\n",
       "</style>\n",
       "<table border=\"1\" class=\"dataframe\">\n",
       "  <thead>\n",
       "    <tr style=\"text-align: right;\">\n",
       "      <th></th>\n",
       "      <th>nombre</th>\n",
       "      <th>oro</th>\n",
       "      <th>plata</th>\n",
       "      <th>bronce</th>\n",
       "    </tr>\n",
       "  </thead>\n",
       "  <tbody>\n",
       "    <tr>\n",
       "      <th>0</th>\n",
       "      <td>Equipo Unificado</td>\n",
       "      <td>45</td>\n",
       "      <td>38</td>\n",
       "      <td>29</td>\n",
       "    </tr>\n",
       "    <tr>\n",
       "      <th>1</th>\n",
       "      <td>Estados Unidos</td>\n",
       "      <td>37</td>\n",
       "      <td>34</td>\n",
       "      <td>37</td>\n",
       "    </tr>\n",
       "    <tr>\n",
       "      <th>2</th>\n",
       "      <td>Alemania</td>\n",
       "      <td>33</td>\n",
       "      <td>21</td>\n",
       "      <td>28</td>\n",
       "    </tr>\n",
       "    <tr>\n",
       "      <th>3</th>\n",
       "      <td>China</td>\n",
       "      <td>16</td>\n",
       "      <td>22</td>\n",
       "      <td>16</td>\n",
       "    </tr>\n",
       "    <tr>\n",
       "      <th>4</th>\n",
       "      <td>Cuba</td>\n",
       "      <td>14</td>\n",
       "      <td>6</td>\n",
       "      <td>11</td>\n",
       "    </tr>\n",
       "  </tbody>\n",
       "</table>\n",
       "</div>"
      ],
      "text/plain": [
       "             nombre  oro  plata  bronce\n",
       "0  Equipo Unificado   45     38      29\n",
       "1    Estados Unidos   37     34      37\n",
       "2          Alemania   33     21      28\n",
       "3             China   16     22      16\n",
       "4              Cuba   14      6      11"
      ]
     },
     "execution_count": 226,
     "metadata": {},
     "output_type": "execute_result"
    }
   ],
   "source": [
    "data_total.head()"
   ]
  },
  {
   "cell_type": "markdown",
   "id": "romantic-edition",
   "metadata": {},
   "source": [
    "### Ejemplo Wikipedia Enlaces"
   ]
  },
  {
   "cell_type": "code",
   "execution_count": 255,
   "id": "fabulous-indian",
   "metadata": {},
   "outputs": [],
   "source": [
    "url_rufus = \"https://es.wikipedia.org/wiki/Rufus_T._Firefly\""
   ]
  },
  {
   "cell_type": "markdown",
   "id": "missing-jimmy",
   "metadata": {},
   "source": [
    "Documentación de Beautiful Soup     \n",
    "KeyError: [attr] - Caused by accessing tag['attr'] when the tag in question doesn’t define the attr attribute. The most common errors are KeyError: 'href' and KeyError: 'class'. Use tag.get('attr') if you’re not sure attr is defined, just as you would with a Python dictionary."
   ]
  },
  {
   "cell_type": "code",
   "execution_count": 256,
   "id": "purple-management",
   "metadata": {},
   "outputs": [],
   "source": [
    "res_rufus = requests.get(url_rufus)"
   ]
  },
  {
   "cell_type": "code",
   "execution_count": 257,
   "id": "short-cradle",
   "metadata": {},
   "outputs": [],
   "source": [
    "# Acordaos de poner el content pls\n",
    "soup = BeautifulSoup(res_rufus.content, \"html.parser\")"
   ]
  },
  {
   "cell_type": "code",
   "execution_count": 258,
   "id": "sudden-trademark",
   "metadata": {},
   "outputs": [],
   "source": [
    "tags = soup(\"a\")\n",
    "# BeautifulSoup me permite extraer los atributos si conozco el nombre con .get\n",
    "enlaces = [tag.get(\"href\") for tag in tags]"
   ]
  },
  {
   "cell_type": "code",
   "execution_count": 259,
   "id": "pleasant-borough",
   "metadata": {},
   "outputs": [
    {
     "ename": "KeyError",
     "evalue": "'href'",
     "output_type": "error",
     "traceback": [
      "\u001b[0;31m---------------------------------------------------------------------------\u001b[0m",
      "\u001b[0;31mKeyError\u001b[0m                                  Traceback (most recent call last)",
      "\u001b[0;32m<ipython-input-259-98edf81e8b94>\u001b[0m in \u001b[0;36m<module>\u001b[0;34m\u001b[0m\n\u001b[1;32m      1\u001b[0m \u001b[0;31m# Si no todos los elementos tienen href este método no funciona\u001b[0m\u001b[0;34m\u001b[0m\u001b[0;34m\u001b[0m\u001b[0;34m\u001b[0m\u001b[0m\n\u001b[0;32m----> 2\u001b[0;31m \u001b[0menlaces2\u001b[0m \u001b[0;34m=\u001b[0m \u001b[0;34m[\u001b[0m\u001b[0mtag\u001b[0m\u001b[0;34m.\u001b[0m\u001b[0mattrs\u001b[0m\u001b[0;34m[\u001b[0m\u001b[0;34m\"href\"\u001b[0m\u001b[0;34m]\u001b[0m \u001b[0;32mfor\u001b[0m \u001b[0mtag\u001b[0m \u001b[0;32min\u001b[0m \u001b[0mtags\u001b[0m\u001b[0;34m]\u001b[0m\u001b[0;34m\u001b[0m\u001b[0;34m\u001b[0m\u001b[0m\n\u001b[0m",
      "\u001b[0;32m<ipython-input-259-98edf81e8b94>\u001b[0m in \u001b[0;36m<listcomp>\u001b[0;34m(.0)\u001b[0m\n\u001b[1;32m      1\u001b[0m \u001b[0;31m# Si no todos los elementos tienen href este método no funciona\u001b[0m\u001b[0;34m\u001b[0m\u001b[0;34m\u001b[0m\u001b[0;34m\u001b[0m\u001b[0m\n\u001b[0;32m----> 2\u001b[0;31m \u001b[0menlaces2\u001b[0m \u001b[0;34m=\u001b[0m \u001b[0;34m[\u001b[0m\u001b[0mtag\u001b[0m\u001b[0;34m.\u001b[0m\u001b[0mattrs\u001b[0m\u001b[0;34m[\u001b[0m\u001b[0;34m\"href\"\u001b[0m\u001b[0;34m]\u001b[0m \u001b[0;32mfor\u001b[0m \u001b[0mtag\u001b[0m \u001b[0;32min\u001b[0m \u001b[0mtags\u001b[0m\u001b[0;34m]\u001b[0m\u001b[0;34m\u001b[0m\u001b[0;34m\u001b[0m\u001b[0m\n\u001b[0m",
      "\u001b[0;31mKeyError\u001b[0m: 'href'"
     ]
    }
   ],
   "source": [
    "# Si no todos los elementos tienen href este método no funciona\n",
    "enlaces2 = [tag.attrs[\"href\"] for tag in tags]"
   ]
  },
  {
   "cell_type": "code",
   "execution_count": 260,
   "id": "young-boston",
   "metadata": {},
   "outputs": [],
   "source": [
    "enlaces_final = [enlace for enlace in enlaces[1:] if \"http\" in enlace]"
   ]
  },
  {
   "cell_type": "code",
   "execution_count": 261,
   "id": "ultimate-jenny",
   "metadata": {},
   "outputs": [
    {
     "data": {
      "text/plain": [
       "['http://rufustf.com',\n",
       " 'https://www.wikidata.org/wiki/Q12201456',\n",
       " 'https://web.archive.org/web/20150406144829/http://www.elmundodetulsa.com/2009/03/rufus-t-firefly-my-synthetic-heart-2008.html',\n",
       " 'http://www.elmundodetulsa.com/2009/03/rufus-t-firefly-my-synthetic-heart-2008.html',\n",
       " 'http://www.latribunadeciudadreal.es/noticia.cfm/Vivir%20/20090617/ganador/iv/edicion/explosion/local/volvera/protagonizar/videoclip/EA8B24E7-1A64-968D-5921264AC0C50118',\n",
       " 'http://mondosonoro.com/Critica-Discos/Rufus-T-Firefly-en-ascenso/RUFUS-T-FIREFLY/7954.aspx',\n",
       " 'https://web.archive.org/web/20130616100127/http://www.rivasciudad.es/portal/contenedor_ficha.jsp?seccion=s_fdes_d4_v3.jsp&codbusqueda=527&language=es&codResi=1&codMenuPN=38&codMenuSN=42&codMenu=616&layout=contenedor_ficha.jsp&area=24',\n",
       " 'http://www.rivasciudad.es/portal/contenedor_ficha.jsp?seccion=s_fdes_d4_v3.jsp&codbusqueda=527&language=es&codResi=1&codMenuPN=38&codMenuSN=42&codMenu=616&layout=contenedor_ficha.jsp&area=24',\n",
       " 'http://poprocklaredo.webcindario.com/final2011.html',\n",
       " 'https://web.archive.org/web/20130430135359/http://origamirecords.com/rufus-t-firefly']"
      ]
     },
     "execution_count": 261,
     "metadata": {},
     "output_type": "execute_result"
    }
   ],
   "source": [
    "enlaces_final[0:10]"
   ]
  },
  {
   "cell_type": "markdown",
   "id": "spoken-fleet",
   "metadata": {},
   "source": [
    "## Resumen\n",
    "Es tu turno ¿qué hemos aprendido hoy?\n",
    "- Mazo de cosas\n",
    "- Me debéis este resumen"
   ]
  }
 ],
 "metadata": {
  "kernelspec": {
   "display_name": "ironhack",
   "language": "python",
   "name": "ironhack"
  },
  "language_info": {
   "codemirror_mode": {
    "name": "ipython",
    "version": 3
   },
   "file_extension": ".py",
   "mimetype": "text/x-python",
   "name": "python",
   "nbconvert_exporter": "python",
   "pygments_lexer": "ipython3",
   "version": "3.8.5"
  },
  "toc": {
   "base_numbering": 1,
   "nav_menu": {},
   "number_sections": true,
   "sideBar": true,
   "skip_h1_title": true,
   "title_cell": "Table of Contents",
   "title_sidebar": "Contents",
   "toc_cell": true,
   "toc_position": {},
   "toc_section_display": true,
   "toc_window_display": false
  }
 },
 "nbformat": 4,
 "nbformat_minor": 5
}
