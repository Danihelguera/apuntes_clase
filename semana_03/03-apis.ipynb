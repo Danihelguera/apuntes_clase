{
 "cells": [
  {
   "cell_type": "markdown",
   "id": "looking-favor",
   "metadata": {},
   "source": [
    "# APIS "
   ]
  },
  {
   "cell_type": "markdown",
   "id": "aggregate-occurrence",
   "metadata": {},
   "source": [
    "![apis_gif](https://media.giphy.com/media/wepUQluC5smgEd4Qz4/giphy.gif)"
   ]
  },
  {
   "cell_type": "markdown",
   "id": "ceramic-advocate",
   "metadata": {
    "toc": true
   },
   "source": [
    "<h1>Table of Contents<span class=\"tocSkip\"></span></h1>\n",
    "<div class=\"toc\"><ul class=\"toc-item\"><li><span><a href=\"#Resumen-de-librerías\" data-toc-modified-id=\"Resumen-de-librerías-1\"><span class=\"toc-item-num\">1&nbsp;&nbsp;</span>Resumen de librerías</a></span></li><li><span><a href=\"#Internet,-DNS,-IPs\" data-toc-modified-id=\"Internet,-DNS,-IPs-2\"><span class=\"toc-item-num\">2&nbsp;&nbsp;</span>Internet, DNS, IPs</a></span></li><li><span><a href=\"#HTTP\" data-toc-modified-id=\"HTTP-3\"><span class=\"toc-item-num\">3&nbsp;&nbsp;</span>HTTP</a></span><ul class=\"toc-item\"><li><span><a href=\"#URL\" data-toc-modified-id=\"URL-3.1\"><span class=\"toc-item-num\">3.1&nbsp;&nbsp;</span>URL</a></span></li><li><span><a href=\"#HTTP-vs-HTTPS\" data-toc-modified-id=\"HTTP-vs-HTTPS-3.2\"><span class=\"toc-item-num\">3.2&nbsp;&nbsp;</span>HTTP vs HTTPS</a></span></li><li><span><a href=\"#Requests\" data-toc-modified-id=\"Requests-3.3\"><span class=\"toc-item-num\">3.3&nbsp;&nbsp;</span>Requests</a></span></li><li><span><a href=\"#Response\" data-toc-modified-id=\"Response-3.4\"><span class=\"toc-item-num\">3.4&nbsp;&nbsp;</span>Response</a></span></li></ul></li><li><span><a href=\"#API\" data-toc-modified-id=\"API-4\"><span class=\"toc-item-num\">4&nbsp;&nbsp;</span>API</a></span><ul class=\"toc-item\"><li><span><a href=\"#RESTful-APIs\" data-toc-modified-id=\"RESTful-APIs-4.1\"><span class=\"toc-item-num\">4.1&nbsp;&nbsp;</span>RESTful APIs</a></span></li></ul></li><li><span><a href=\"#Let's-go\" data-toc-modified-id=\"Let's-go-5\"><span class=\"toc-item-num\">5&nbsp;&nbsp;</span>Let's go</a></span><ul class=\"toc-item\"><li><span><a href=\"#Requests-en-Python\" data-toc-modified-id=\"Requests-en-Python-5.1\"><span class=\"toc-item-num\">5.1&nbsp;&nbsp;</span>Requests en Python</a></span></li><li><span><a href=\"#HTML-response\" data-toc-modified-id=\"HTML-response-5.2\"><span class=\"toc-item-num\">5.2&nbsp;&nbsp;</span>HTML response</a></span></li><li><span><a href=\"#JSON-response\" data-toc-modified-id=\"JSON-response-5.3\"><span class=\"toc-item-num\">5.3&nbsp;&nbsp;</span>JSON response</a></span></li><li><span><a href=\"#Gestión-de-datos-en-pandas\" data-toc-modified-id=\"Gestión-de-datos-en-pandas-5.4\"><span class=\"toc-item-num\">5.4&nbsp;&nbsp;</span>Gestión de datos en pandas</a></span></li><li><span><a href=\"#Parámetros\" data-toc-modified-id=\"Parámetros-5.5\"><span class=\"toc-item-num\">5.5&nbsp;&nbsp;</span>Parámetros</a></span></li></ul></li><li><span><a href=\"#¡¡Es-tu-momento!!\" data-toc-modified-id=\"¡¡Es-tu-momento!!-6\"><span class=\"toc-item-num\">6&nbsp;&nbsp;</span>¡¡Es tu momento!!</a></span><ul class=\"toc-item\"><li><span><a href=\"#Probamos-api-CAT-FACTS\" data-toc-modified-id=\"Probamos-api-CAT-FACTS-6.1\"><span class=\"toc-item-num\">6.1&nbsp;&nbsp;</span>Probamos api CAT-FACTS</a></span></li><li><span><a href=\"#Api-Jokes\" data-toc-modified-id=\"Api-Jokes-6.2\"><span class=\"toc-item-num\">6.2&nbsp;&nbsp;</span>Api Jokes</a></span></li></ul></li><li><span><a href=\"#Headers\" data-toc-modified-id=\"Headers-7\"><span class=\"toc-item-num\">7&nbsp;&nbsp;</span>Headers</a></span></li><li><span><a href=\"#API-Keys\" data-toc-modified-id=\"API-Keys-8\"><span class=\"toc-item-num\">8&nbsp;&nbsp;</span>API Keys</a></span></li><li><span><a href=\"#API-Wrappers\" data-toc-modified-id=\"API-Wrappers-9\"><span class=\"toc-item-num\">9&nbsp;&nbsp;</span>API Wrappers</a></span><ul class=\"toc-item\"><li><span><a href=\"#Acceder-a-la-API-de-Twitter-con-Python\" data-toc-modified-id=\"Acceder-a-la-API-de-Twitter-con-Python-9.1\"><span class=\"toc-item-num\">9.1&nbsp;&nbsp;</span>Acceder a la API de Twitter con Python</a></span></li></ul></li><li><span><a href=\"#Clientes-API\" data-toc-modified-id=\"Clientes-API-10\"><span class=\"toc-item-num\">10&nbsp;&nbsp;</span>Clientes API</a></span><ul class=\"toc-item\"><li><span><a href=\"#Códigos-generados-por-insomnia\" data-toc-modified-id=\"Códigos-generados-por-insomnia-10.1\"><span class=\"toc-item-num\">10.1&nbsp;&nbsp;</span>Códigos generados por insomnia</a></span></li></ul></li><li><span><a href=\"#Resumen\" data-toc-modified-id=\"Resumen-11\"><span class=\"toc-item-num\">11&nbsp;&nbsp;</span>Resumen</a></span><ul class=\"toc-item\"><li><span><a href=\"#Recorrido:\" data-toc-modified-id=\"Recorrido:-11.1\"><span class=\"toc-item-num\">11.1&nbsp;&nbsp;</span>Recorrido:</a></span></li></ul></li><li><span><a href=\"#Further-materials\" data-toc-modified-id=\"Further-materials-12\"><span class=\"toc-item-num\">12&nbsp;&nbsp;</span>Further materials</a></span></li></ul></div>"
   ]
  },
  {
   "cell_type": "markdown",
   "id": "moved-sapphire",
   "metadata": {},
   "source": [
    "## Resumen de librerías"
   ]
  },
  {
   "cell_type": "code",
   "execution_count": null,
   "id": "planned-satisfaction",
   "metadata": {},
   "outputs": [],
   "source": [
    "import requests \n",
    "import json\n",
    "import os\n",
    "from dotenv import load_dotenv\n",
    "import pandas as pd\n",
    "from pandas import json_normalize\n",
    "import tweepy\n",
    "import time"
   ]
  },
  {
   "cell_type": "markdown",
   "id": "chief-turkey",
   "metadata": {},
   "source": [
    "PAR FAVAAAA ACORDAOS DE \n",
    "\n",
    "\n",
    "```python\n",
    "load_dotenv()\n",
    "````\n"
   ]
  },
  {
   "cell_type": "markdown",
   "id": "cosmetic-creator",
   "metadata": {},
   "source": [
    "## Internet, DNS, IPs"
   ]
  },
  {
   "cell_type": "markdown",
   "id": "suspended-macedonia",
   "metadata": {},
   "source": [
    "![enjuto](https://www.publico.es/files/article_main/uploads//2014/12/13/548bb18f1d9ef.jpg)"
   ]
  },
  {
   "cell_type": "markdown",
   "id": "postal-disco",
   "metadata": {},
   "source": [
    "[¿Cómo nos conectamos con www.google.com?](https://www.youtube.com/watch?v=sUhEqT_HSBI&ab_channel=ProfeSang)"
   ]
  },
  {
   "cell_type": "markdown",
   "id": "suspected-coordinator",
   "metadata": {},
   "source": [
    " * DNS (servidor de nombres de dominio): asigna la dirección de Internet www.google.com a la IP del servidor: 216.58.222.196\n",
    " * IP: identificación del servidor. |código que permite que la información sea enviada y recibida por las partes correctas   \n",
    " * Proveedores de dominios: venden y compran dominios de Internet"
   ]
  },
  {
   "cell_type": "markdown",
   "id": "different-healing",
   "metadata": {},
   "source": [
    "[inserta tu arte aquí, Ras]()"
   ]
  },
  {
   "cell_type": "markdown",
   "id": "oriented-bride",
   "metadata": {},
   "source": [
    "## HTTP"
   ]
  },
  {
   "cell_type": "markdown",
   "id": "actual-baseball",
   "metadata": {},
   "source": [
    "**H**yper **T**ext **T**transferencia **P**rotocolo   \n",
    "HTTP es un protocolo de comunicaciones que proporciona una estructura para las peticiones entre el cliente y el servidor en una red.    \n",
    "Por ejemplo, el navegador web en el ordenador del usuario (el cliente) emplea el protocolo HTTP para solicitar información de un sitio web en un servidor. "
   ]
  },
  {
   "cell_type": "markdown",
   "id": "aquatic-forty",
   "metadata": {},
   "source": [
    "### URL\n",
    "Contiene información sobre el recurso que se está solicitando al SERVIDOR.\n",
    "Ejemplos:\n",
    "\n",
    "- https://www.google.com/webhp?authuser=2\n",
    "- https://www.towardsdatascience.com\n",
    "- https://www.ironhack.com/\n",
    "- Protocolo: https (https == http es lo mismo pero https está encriptado)\n",
    "- Nombre de dominio --> IRONHACK\n",
    "- TLD --> .com"
   ]
  },
  {
   "cell_type": "markdown",
   "id": "apart-romantic",
   "metadata": {},
   "source": [
    "### HTTP vs HTTPS\n",
    "\n",
    "- HTTP transfiere los datos en texto plano mientras que HTTPS lo hace en texto cifrado. \n",
    "- HTTP es más rápido que HTTPS porque este último consume potencia de cálculo para cifrar el canal de comunicación."
   ]
  },
  {
   "cell_type": "markdown",
   "id": "elegant-british",
   "metadata": {},
   "source": [
    "### Requests"
   ]
  },
  {
   "cell_type": "markdown",
   "id": "based-paintball",
   "metadata": {},
   "source": [
    "Las **Requests** son preguntas que formulamos a un SERVIDOR para recibir una información (una **respuesta/response**).        \n",
    "Tipos de request (verbo):\n",
    " * GET: leer la información del recurso, y no modificarla de ninguna manera. El acceso a la página web desde el navegador **obtiene** información.\n",
    " * POST\n",
    " * PUT\n",
    " * DELETE\n",
    " * PATCH\n",
    " * ..."
   ]
  },
  {
   "cell_type": "markdown",
   "id": "painted-retrieval",
   "metadata": {},
   "source": [
    "### Response\n",
    "Las response pueden ser de varios tipos:\n",
    " * un JSON (similar al diccionario de Python)\n",
    " * una imagen\n",
    " * un vídeo\n",
    " * una página HTML\n",
    " * un archivo PDF\n",
    " * ..."
   ]
  },
  {
   "cell_type": "markdown",
   "id": "casual-contributor",
   "metadata": {},
   "source": [
    "Las response siguen la siguiente estructura. Tienen:\n",
    " * una sección HEADER: contiene metadatos sobre el comportamiento del servidor\n",
    " * un CUERPO: contiene la información deseada\n",
    "Una parte importante del HEADER es el **código de estado**. Este código es un código numérico que indica el resultado del servidor. Hay diferentes códigos de estado dependiendo de si el servidor ha conseguido realizar la petición o no ha conseguido hacer nada. Estos son algunos grupos de códigos de estado:\n",
    "\n",
    "- **2xx** successful__: la solicitud fue recibida, entendida y aceptada con éxito\n",
    "- **3xx** redirección__: es necesario realizar más acciones para completar la solicitud\n",
    "- **4xx** error del cliente__: la solicitud contiene una sintaxis incorrecta o no se puede cumplir\n",
    "- **5xx** error del servidor__: el servidor no ha podido completar una solicitud aparentemente válida\n",
    "\n",
    "Lista completa:    \n",
    "https://en.wikipedia.org/wiki/List_of_HTTP_status_codes    \n",
    "Mucho más divertido:    \n",
    "https://http.cat/   "
   ]
  },
  {
   "cell_type": "markdown",
   "id": "going-question",
   "metadata": {},
   "source": [
    "## API"
   ]
  },
  {
   "cell_type": "markdown",
   "id": "retained-success",
   "metadata": {},
   "source": [
    "**A**pplication **P**rogramming **I**nterface\n",
    "* En la era de la nube, los programas necesitan comunicarse a través de Internet.\n",
    "* Dentro de un proyecto, el backend puede querer compartir información con el frontend sin acceso a la base de datos.\n",
    "* Es un contrato entre productos de software. \n",
    "* Es un manual de instrucciones para utilizar un software.\n",
    "* El cliente llama al servidor a través de una API, el servidor responde."
   ]
  },
  {
   "cell_type": "markdown",
   "id": "headed-quarterly",
   "metadata": {},
   "source": [
    "### RESTful APIs"
   ]
  },
  {
   "cell_type": "markdown",
   "id": "geographic-implement",
   "metadata": {},
   "source": [
    "La mayoría de las API interactivas siguen la lógica de REST, una serie de reglas   \n",
    "- [Principios rectores de REST](https://restfulapi.net/)   \n",
    "- [Qué es una API RESTful (vídeo)](https://www.youtube.com/watch?v=JD6VNRdGl98&ab_channel=LeonardoKuffo)   \n",
    "\n",
    "Quién hace qué:  \n",
    "* Nosotros (cliente) enviamos una petición\n",
    "* Ellos (servidor) devuelven una respuesta, generalmente en formato JSON      \n",
    "\n",
    "Las APIs siempre tienen que ofrecer documentación de sus diferentes servicios: **endpoints**  \n",
    "Cada endpoint es una URL diferente"
   ]
  },
  {
   "cell_type": "markdown",
   "id": "respiratory-settle",
   "metadata": {},
   "source": [
    "## Let's go"
   ]
  },
  {
   "cell_type": "markdown",
   "id": "empty-prediction",
   "metadata": {},
   "source": [
    "### Requests en Python"
   ]
  },
  {
   "cell_type": "code",
   "execution_count": null,
   "id": "expected-yemen",
   "metadata": {},
   "outputs": [],
   "source": [
    "# Recuerda, tienes que leer la documentación  --> Request, HTTP for Humans."
   ]
  },
  {
   "cell_type": "markdown",
   "id": "parallel-makeup",
   "metadata": {},
   "source": [
    "https://requests.readthedocs.io/en/master/"
   ]
  },
  {
   "cell_type": "code",
   "execution_count": null,
   "id": "immediate-headset",
   "metadata": {},
   "outputs": [],
   "source": [
    "#!pip3 install requests"
   ]
  },
  {
   "cell_type": "code",
   "execution_count": 1,
   "id": "lesser-customs",
   "metadata": {},
   "outputs": [],
   "source": [
    "import requests"
   ]
  },
  {
   "cell_type": "markdown",
   "id": "opponent-missouri",
   "metadata": {},
   "source": [
    "### HTML response"
   ]
  },
  {
   "cell_type": "markdown",
   "id": "emotional-norway",
   "metadata": {},
   "source": [
    "Puedo llamar a una url y tener todo el html, toda la respuesta del servidor."
   ]
  },
  {
   "cell_type": "code",
   "execution_count": 2,
   "id": "active-intelligence",
   "metadata": {},
   "outputs": [],
   "source": [
    "response_pais = requests.get(\"https://elpais.com/\")"
   ]
  },
  {
   "cell_type": "code",
   "execution_count": 3,
   "id": "sacred-perspective",
   "metadata": {},
   "outputs": [
    {
     "data": {
      "text/plain": [
       "<Response [200]>"
      ]
     },
     "execution_count": 3,
     "metadata": {},
     "output_type": "execute_result"
    }
   ],
   "source": [
    "response_pais"
   ]
  },
  {
   "cell_type": "code",
   "execution_count": 4,
   "id": "varying-tissue",
   "metadata": {},
   "outputs": [
    {
     "data": {
      "text/plain": [
       "{'Content-Type': 'text/html; charset=utf-8', 'Server': 'openresty', 'Content-Encoding': 'gzip', 'ETag': 'W/\"53ee8-S0MEC3IJuNLVx35RLZLVIdhApdY\"', 'Last-Modified': 'Thu, 04 Nov 2021 08:37:19 GMT', 'Vary': 'Accept-Encoding', 'X-Akamai-Transformed': '9 - 0 pmb=mRUM,2', 'Cache-Control': 'private, max-age=60', 'Expires': 'Thu, 04 Nov 2021 08:38:49 GMT', 'Date': 'Thu, 04 Nov 2021 08:37:49 GMT', 'Transfer-Encoding': 'chunked', 'Connection': 'keep-alive, Transfer-Encoding', 'Set-Cookie': 'arc-geo={\"georegion\":\"200\",\"countrycode\":\"ES\",\"regioncode\":\"\",\"timezone\":\"GMT+1\",\"continent\":\"EU\"}; expires=Thu, 04-Nov-2021 08:52:49 GMT; path=/, eptz=ES; path=/; domain=.elpais.com, hpage=1; expires=Fri, 04-Nov-2022 08:37:49 GMT; path=/; domain=.elpais.com', 'Server-Timing': 'cdn-cache; desc=HIT, edge; dur=1'}"
      ]
     },
     "execution_count": 4,
     "metadata": {},
     "output_type": "execute_result"
    }
   ],
   "source": [
    "response_pais.headers"
   ]
  },
  {
   "cell_type": "code",
   "execution_count": 6,
   "id": "verbal-argentina",
   "metadata": {},
   "outputs": [
    {
     "data": {
      "text/plain": [
       "200"
      ]
     },
     "execution_count": 6,
     "metadata": {},
     "output_type": "execute_result"
    }
   ],
   "source": [
    "response_pais.status_code"
   ]
  },
  {
   "cell_type": "code",
   "execution_count": 13,
   "id": "realistic-converter",
   "metadata": {},
   "outputs": [],
   "source": [
    "#response_pais.content"
   ]
  },
  {
   "cell_type": "code",
   "execution_count": 12,
   "id": "nasty-worry",
   "metadata": {},
   "outputs": [
    {
     "data": {
      "text/plain": [
       "True"
      ]
     },
     "execution_count": 12,
     "metadata": {},
     "output_type": "execute_result"
    }
   ],
   "source": [
    "\"gobierno\" in str(response_pais.content)"
   ]
  },
  {
   "cell_type": "markdown",
   "id": "northern-indian",
   "metadata": {},
   "source": [
    "### JSON response"
   ]
  },
  {
   "cell_type": "markdown",
   "id": "appointed-ready",
   "metadata": {},
   "source": [
    "JSON: Java Script Object Notation"
   ]
  },
  {
   "cell_type": "markdown",
   "id": "automotive-muslim",
   "metadata": {},
   "source": [
    "Obtengamos información de la ISS (estación espacial internacional)"
   ]
  },
  {
   "cell_type": "markdown",
   "id": "biblical-consultation",
   "metadata": {},
   "source": [
    "[ISS API documentation](https://wheretheiss.at/w/developer)"
   ]
  },
  {
   "cell_type": "code",
   "execution_count": 14,
   "id": "civic-banana",
   "metadata": {},
   "outputs": [],
   "source": [
    "url = \"https://api.wheretheiss.at/v1/satellites\""
   ]
  },
  {
   "cell_type": "code",
   "execution_count": 15,
   "id": "mature-principal",
   "metadata": {},
   "outputs": [],
   "source": [
    "res = requests.get(url)"
   ]
  },
  {
   "cell_type": "code",
   "execution_count": 16,
   "id": "separate-camera",
   "metadata": {},
   "outputs": [
    {
     "data": {
      "text/plain": [
       "<Response [200]>"
      ]
     },
     "execution_count": 16,
     "metadata": {},
     "output_type": "execute_result"
    }
   ],
   "source": [
    "res"
   ]
  },
  {
   "cell_type": "code",
   "execution_count": 17,
   "id": "imperial-librarian",
   "metadata": {},
   "outputs": [
    {
     "name": "stdout",
     "output_type": "stream",
     "text": [
      "{'Date': 'Thu, 04 Nov 2021 08:47:02 GMT', 'Server': 'Apache/2.2.22 (Ubuntu)', 'X-Powered-By': 'PHP/5.3.10-1ubuntu3.26', 'X-Rate-Limit-Limit': '350', 'X-Rate-Limit-Remaining': '349', 'X-Rate-Limit-Interval': '5 minutes', 'Access-Control-Allow-Origin': '*', 'X-Apache-Time': 'D=12274', 'Cache-Control': 'max-age=0, no-cache', 'Content-Length': '27', 'Keep-Alive': 'timeout=15, max=100', 'Connection': 'Keep-Alive', 'Content-Type': 'application/json'}\n"
     ]
    }
   ],
   "source": [
    "print(res.headers)"
   ]
  },
  {
   "cell_type": "code",
   "execution_count": 18,
   "id": "north-magazine",
   "metadata": {},
   "outputs": [
    {
     "data": {
      "text/plain": [
       "b'[{\"name\":\"iss\",\"id\":25544}]'"
      ]
     },
     "execution_count": 18,
     "metadata": {},
     "output_type": "execute_result"
    }
   ],
   "source": [
    "res.content"
   ]
  },
  {
   "cell_type": "code",
   "execution_count": 27,
   "id": "failing-lotus",
   "metadata": {},
   "outputs": [
    {
     "data": {
      "text/plain": [
       "[{'name': 'iss', 'id': 25544}]"
      ]
     },
     "execution_count": 27,
     "metadata": {},
     "output_type": "execute_result"
    }
   ],
   "source": [
    "res.json()"
   ]
  },
  {
   "cell_type": "code",
   "execution_count": 28,
   "id": "arabic-manhattan",
   "metadata": {},
   "outputs": [],
   "source": [
    "json_ = res.json()"
   ]
  },
  {
   "cell_type": "code",
   "execution_count": 30,
   "id": "copyrighted-basic",
   "metadata": {},
   "outputs": [
    {
     "data": {
      "text/plain": [
       "list"
      ]
     },
     "execution_count": 30,
     "metadata": {},
     "output_type": "execute_result"
    }
   ],
   "source": [
    "type(json_)"
   ]
  },
  {
   "cell_type": "code",
   "execution_count": 31,
   "id": "collective-classic",
   "metadata": {},
   "outputs": [
    {
     "data": {
      "text/plain": [
       "1"
      ]
     },
     "execution_count": 31,
     "metadata": {},
     "output_type": "execute_result"
    }
   ],
   "source": [
    "len(json_)"
   ]
  },
  {
   "cell_type": "code",
   "execution_count": 32,
   "id": "exempt-asthma",
   "metadata": {},
   "outputs": [
    {
     "data": {
      "text/plain": [
       "{'name': 'iss', 'id': 25544}"
      ]
     },
     "execution_count": 32,
     "metadata": {},
     "output_type": "execute_result"
    }
   ],
   "source": [
    "json_[0]"
   ]
  },
  {
   "cell_type": "code",
   "execution_count": 33,
   "id": "interested-audience",
   "metadata": {},
   "outputs": [
    {
     "data": {
      "text/plain": [
       "dict_values(['iss', 25544])"
      ]
     },
     "execution_count": 33,
     "metadata": {},
     "output_type": "execute_result"
    }
   ],
   "source": [
    "json_[0].values()"
   ]
  },
  {
   "cell_type": "code",
   "execution_count": 34,
   "id": "stable-athens",
   "metadata": {},
   "outputs": [],
   "source": [
    "# Vamos a hacer una request mal para ver el código de error\n",
    "url_mal = \"https://api.wheretheiss.at/v1/satellite\""
   ]
  },
  {
   "cell_type": "code",
   "execution_count": 36,
   "id": "coated-entity",
   "metadata": {},
   "outputs": [],
   "source": [
    "mal = requests.get(url_mal)"
   ]
  },
  {
   "cell_type": "code",
   "execution_count": 37,
   "id": "medieval-vietnam",
   "metadata": {},
   "outputs": [
    {
     "data": {
      "text/plain": [
       "<Response [404]>"
      ]
     },
     "execution_count": 37,
     "metadata": {},
     "output_type": "execute_result"
    }
   ],
   "source": [
    "mal"
   ]
  },
  {
   "cell_type": "code",
   "execution_count": 38,
   "id": "incorporate-church",
   "metadata": {},
   "outputs": [
    {
     "data": {
      "text/plain": [
       "{'Date': 'Thu, 04 Nov 2021 08:55:24 GMT', 'Server': 'Apache/2.2.22 (Ubuntu)', 'X-Powered-By': 'PHP/5.3.10-1ubuntu3.26', 'Access-Control-Allow-Origin': '*', 'X-Apache-Time': 'D=11283', 'Cache-Control': 'max-age=0, no-cache', 'Content-Length': '65', 'Keep-Alive': 'timeout=15, max=100', 'Connection': 'Keep-Alive', 'Content-Type': 'application/json'}"
      ]
     },
     "execution_count": 38,
     "metadata": {},
     "output_type": "execute_result"
    }
   ],
   "source": [
    "mal.headers"
   ]
  },
  {
   "cell_type": "code",
   "execution_count": 39,
   "id": "institutional-minority",
   "metadata": {},
   "outputs": [
    {
     "data": {
      "text/plain": [
       "b'{\"error\":\"Invalid controller specified (satellite)\",\"status\":404}'"
      ]
     },
     "execution_count": 39,
     "metadata": {},
     "output_type": "execute_result"
    }
   ],
   "source": [
    "mal.content"
   ]
  },
  {
   "cell_type": "markdown",
   "id": "cognitive-christopher",
   "metadata": {},
   "source": [
    "Si el Content-Type de la respuesta es json, podemos acceder a él con `.json()`    \n",
    "[Documentación](https://docs.python.org/3/library/json.html)"
   ]
  },
  {
   "cell_type": "code",
   "execution_count": 40,
   "id": "interesting-colony",
   "metadata": {},
   "outputs": [
    {
     "data": {
      "text/plain": [
       "'https://api.wheretheiss.at/v1/satellites'"
      ]
     },
     "execution_count": 40,
     "metadata": {},
     "output_type": "execute_result"
    }
   ],
   "source": [
    "url"
   ]
  },
  {
   "cell_type": "code",
   "execution_count": 44,
   "id": "cognitive-coaching",
   "metadata": {},
   "outputs": [
    {
     "data": {
      "text/plain": [
       "25544"
      ]
     },
     "execution_count": 44,
     "metadata": {},
     "output_type": "execute_result"
    }
   ],
   "source": [
    "res.json()[0][\"id\"]"
   ]
  },
  {
   "cell_type": "code",
   "execution_count": 48,
   "id": "veterinary-terry",
   "metadata": {},
   "outputs": [],
   "source": [
    "url_iss = url + \"/\" + str(res.json()[0][\"id\"])"
   ]
  },
  {
   "cell_type": "code",
   "execution_count": 49,
   "id": "egyptian-completion",
   "metadata": {},
   "outputs": [
    {
     "data": {
      "text/plain": [
       "'https://api.wheretheiss.at/v1/satellites/25544'"
      ]
     },
     "execution_count": 49,
     "metadata": {},
     "output_type": "execute_result"
    }
   ],
   "source": [
    "url_iss"
   ]
  },
  {
   "cell_type": "markdown",
   "id": "electric-steel",
   "metadata": {},
   "source": [
    "Hacemos la llamada al endpoint satellites con el id porque ya nos lo ha devuelto la request anterior"
   ]
  },
  {
   "cell_type": "code",
   "execution_count": 50,
   "id": "legislative-acoustic",
   "metadata": {},
   "outputs": [],
   "source": [
    "res_iss = requests.get(url_iss)"
   ]
  },
  {
   "cell_type": "code",
   "execution_count": 51,
   "id": "plain-monkey",
   "metadata": {},
   "outputs": [
    {
     "data": {
      "text/plain": [
       "<Response [200]>"
      ]
     },
     "execution_count": 51,
     "metadata": {},
     "output_type": "execute_result"
    }
   ],
   "source": [
    "res_iss"
   ]
  },
  {
   "cell_type": "code",
   "execution_count": 57,
   "id": "beautiful-drilling",
   "metadata": {},
   "outputs": [],
   "source": [
    "donde = res_iss.json()"
   ]
  },
  {
   "cell_type": "code",
   "execution_count": 60,
   "id": "democratic-struggle",
   "metadata": {},
   "outputs": [
    {
     "data": {
      "text/plain": [
       "{'name': 'iss',\n",
       " 'id': 25544,\n",
       " 'latitude': 41.152416883454,\n",
       " 'longitude': -125.26388456167,\n",
       " 'altitude': 424.53545027622,\n",
       " 'velocity': 27581.111857117,\n",
       " 'visibility': 'eclipsed',\n",
       " 'footprint': 4530.4661928086,\n",
       " 'timestamp': 1636016264,\n",
       " 'daynum': 2459522.8734259,\n",
       " 'solar_lat': -15.486960887438,\n",
       " 'solar_lon': 41.463905240078,\n",
       " 'units': 'kilometers'}"
      ]
     },
     "execution_count": 60,
     "metadata": {},
     "output_type": "execute_result"
    }
   ],
   "source": [
    "donde"
   ]
  },
  {
   "cell_type": "markdown",
   "id": "anticipated-native",
   "metadata": {},
   "source": [
    "### Gestión de datos en pandas"
   ]
  },
  {
   "cell_type": "code",
   "execution_count": 53,
   "id": "small-movie",
   "metadata": {},
   "outputs": [],
   "source": [
    "# Vamos a convertir a dataframe los datos que nos devuelve una API"
   ]
  },
  {
   "cell_type": "code",
   "execution_count": 54,
   "id": "ongoing-georgia",
   "metadata": {},
   "outputs": [],
   "source": [
    "import pandas as pd"
   ]
  },
  {
   "cell_type": "code",
   "execution_count": 65,
   "id": "higher-county",
   "metadata": {},
   "outputs": [
    {
     "data": {
      "text/html": [
       "<div>\n",
       "<style scoped>\n",
       "    .dataframe tbody tr th:only-of-type {\n",
       "        vertical-align: middle;\n",
       "    }\n",
       "\n",
       "    .dataframe tbody tr th {\n",
       "        vertical-align: top;\n",
       "    }\n",
       "\n",
       "    .dataframe thead th {\n",
       "        text-align: right;\n",
       "    }\n",
       "</style>\n",
       "<table border=\"1\" class=\"dataframe\">\n",
       "  <thead>\n",
       "    <tr style=\"text-align: right;\">\n",
       "      <th></th>\n",
       "      <th>0</th>\n",
       "    </tr>\n",
       "  </thead>\n",
       "  <tbody>\n",
       "    <tr>\n",
       "      <th>name</th>\n",
       "      <td>iss</td>\n",
       "    </tr>\n",
       "    <tr>\n",
       "      <th>id</th>\n",
       "      <td>25544</td>\n",
       "    </tr>\n",
       "    <tr>\n",
       "      <th>latitude</th>\n",
       "      <td>41.152417</td>\n",
       "    </tr>\n",
       "    <tr>\n",
       "      <th>longitude</th>\n",
       "      <td>-125.263885</td>\n",
       "    </tr>\n",
       "    <tr>\n",
       "      <th>altitude</th>\n",
       "      <td>424.53545</td>\n",
       "    </tr>\n",
       "  </tbody>\n",
       "</table>\n",
       "</div>"
      ],
      "text/plain": [
       "                    0\n",
       "name              iss\n",
       "id              25544\n",
       "latitude    41.152417\n",
       "longitude -125.263885\n",
       "altitude    424.53545"
      ]
     },
     "execution_count": 65,
     "metadata": {},
     "output_type": "execute_result"
    }
   ],
   "source": [
    "df = pd.DataFrame.from_dict(donde, orient=\"index\")\n",
    "df.head()"
   ]
  },
  {
   "cell_type": "code",
   "execution_count": null,
   "id": "urban-composite",
   "metadata": {},
   "outputs": [],
   "source": [
    "# Primero lo hemos hecho a lo loco... y evidentemente, no es el camino"
   ]
  },
  {
   "cell_type": "code",
   "execution_count": null,
   "id": "imposed-attachment",
   "metadata": {},
   "outputs": [],
   "source": [
    "# Hacemos una lista vacía y añadimos la response para tener una lista con un diccionario y que pandas lo parsee"
   ]
  },
  {
   "cell_type": "code",
   "execution_count": 67,
   "id": "solved-traveler",
   "metadata": {},
   "outputs": [],
   "source": [
    "lista = [donde]\n",
    "df2 = pd.DataFrame(lista)"
   ]
  },
  {
   "cell_type": "code",
   "execution_count": 68,
   "id": "deluxe-yorkshire",
   "metadata": {},
   "outputs": [
    {
     "data": {
      "text/html": [
       "<div>\n",
       "<style scoped>\n",
       "    .dataframe tbody tr th:only-of-type {\n",
       "        vertical-align: middle;\n",
       "    }\n",
       "\n",
       "    .dataframe tbody tr th {\n",
       "        vertical-align: top;\n",
       "    }\n",
       "\n",
       "    .dataframe thead th {\n",
       "        text-align: right;\n",
       "    }\n",
       "</style>\n",
       "<table border=\"1\" class=\"dataframe\">\n",
       "  <thead>\n",
       "    <tr style=\"text-align: right;\">\n",
       "      <th></th>\n",
       "      <th>name</th>\n",
       "      <th>id</th>\n",
       "      <th>latitude</th>\n",
       "      <th>longitude</th>\n",
       "      <th>altitude</th>\n",
       "      <th>velocity</th>\n",
       "      <th>visibility</th>\n",
       "      <th>footprint</th>\n",
       "      <th>timestamp</th>\n",
       "      <th>daynum</th>\n",
       "      <th>solar_lat</th>\n",
       "      <th>solar_lon</th>\n",
       "      <th>units</th>\n",
       "    </tr>\n",
       "  </thead>\n",
       "  <tbody>\n",
       "    <tr>\n",
       "      <th>0</th>\n",
       "      <td>iss</td>\n",
       "      <td>25544</td>\n",
       "      <td>41.152417</td>\n",
       "      <td>-125.263885</td>\n",
       "      <td>424.53545</td>\n",
       "      <td>27581.111857</td>\n",
       "      <td>eclipsed</td>\n",
       "      <td>4530.466193</td>\n",
       "      <td>1636016264</td>\n",
       "      <td>2.459523e+06</td>\n",
       "      <td>-15.486961</td>\n",
       "      <td>41.463905</td>\n",
       "      <td>kilometers</td>\n",
       "    </tr>\n",
       "  </tbody>\n",
       "</table>\n",
       "</div>"
      ],
      "text/plain": [
       "  name     id   latitude   longitude   altitude      velocity visibility  \\\n",
       "0  iss  25544  41.152417 -125.263885  424.53545  27581.111857   eclipsed   \n",
       "\n",
       "     footprint   timestamp        daynum  solar_lat  solar_lon       units  \n",
       "0  4530.466193  1636016264  2.459523e+06 -15.486961  41.463905  kilometers  "
      ]
     },
     "execution_count": 68,
     "metadata": {},
     "output_type": "execute_result"
    }
   ],
   "source": [
    "df2.head()"
   ]
  },
  {
   "cell_type": "code",
   "execution_count": null,
   "id": "aquatic-healthcare",
   "metadata": {},
   "outputs": [],
   "source": [
    "# Pandas hace esto por nosotras con json normalize 🐼"
   ]
  },
  {
   "cell_type": "code",
   "execution_count": 69,
   "id": "artistic-bristol",
   "metadata": {},
   "outputs": [],
   "source": [
    "from pandas import json_normalize"
   ]
  },
  {
   "cell_type": "code",
   "execution_count": 70,
   "id": "familiar-pierce",
   "metadata": {},
   "outputs": [
    {
     "data": {
      "text/plain": [
       "{'name': 'iss',\n",
       " 'id': 25544,\n",
       " 'latitude': 12.445375482818,\n",
       " 'longitude': -5.7463541886604,\n",
       " 'altitude': 417.44643557182,\n",
       " 'velocity': 27591.608082962,\n",
       " 'visibility': 'daylight',\n",
       " 'footprint': 4494.4491877915,\n",
       " 'timestamp': 1636017924,\n",
       " 'daynum': 2459522.8926389,\n",
       " 'solar_lat': -15.492849321154,\n",
       " 'solar_lon': 34.547321535975,\n",
       " 'units': 'kilometers'}"
      ]
     },
     "execution_count": 70,
     "metadata": {},
     "output_type": "execute_result"
    }
   ],
   "source": [
    "para_json = requests.get(url_iss).json()\n",
    "para_json"
   ]
  },
  {
   "cell_type": "code",
   "execution_count": 71,
   "id": "north-cleveland",
   "metadata": {},
   "outputs": [
    {
     "data": {
      "text/html": [
       "<div>\n",
       "<style scoped>\n",
       "    .dataframe tbody tr th:only-of-type {\n",
       "        vertical-align: middle;\n",
       "    }\n",
       "\n",
       "    .dataframe tbody tr th {\n",
       "        vertical-align: top;\n",
       "    }\n",
       "\n",
       "    .dataframe thead th {\n",
       "        text-align: right;\n",
       "    }\n",
       "</style>\n",
       "<table border=\"1\" class=\"dataframe\">\n",
       "  <thead>\n",
       "    <tr style=\"text-align: right;\">\n",
       "      <th></th>\n",
       "      <th>name</th>\n",
       "      <th>id</th>\n",
       "      <th>latitude</th>\n",
       "      <th>longitude</th>\n",
       "      <th>altitude</th>\n",
       "      <th>velocity</th>\n",
       "      <th>visibility</th>\n",
       "      <th>footprint</th>\n",
       "      <th>timestamp</th>\n",
       "      <th>daynum</th>\n",
       "      <th>solar_lat</th>\n",
       "      <th>solar_lon</th>\n",
       "      <th>units</th>\n",
       "    </tr>\n",
       "  </thead>\n",
       "  <tbody>\n",
       "    <tr>\n",
       "      <th>0</th>\n",
       "      <td>iss</td>\n",
       "      <td>25544</td>\n",
       "      <td>12.445375</td>\n",
       "      <td>-5.746354</td>\n",
       "      <td>417.446436</td>\n",
       "      <td>27591.608083</td>\n",
       "      <td>daylight</td>\n",
       "      <td>4494.449188</td>\n",
       "      <td>1636017924</td>\n",
       "      <td>2.459523e+06</td>\n",
       "      <td>-15.492849</td>\n",
       "      <td>34.547322</td>\n",
       "      <td>kilometers</td>\n",
       "    </tr>\n",
       "  </tbody>\n",
       "</table>\n",
       "</div>"
      ],
      "text/plain": [
       "  name     id   latitude  longitude    altitude      velocity visibility  \\\n",
       "0  iss  25544  12.445375  -5.746354  417.446436  27591.608083   daylight   \n",
       "\n",
       "     footprint   timestamp        daynum  solar_lat  solar_lon       units  \n",
       "0  4494.449188  1636017924  2.459523e+06 -15.492849  34.547322  kilometers  "
      ]
     },
     "execution_count": 71,
     "metadata": {},
     "output_type": "execute_result"
    }
   ],
   "source": [
    "json_normalize(para_json)"
   ]
  },
  {
   "cell_type": "code",
   "execution_count": null,
   "id": "occupational-dublin",
   "metadata": {},
   "outputs": [],
   "source": [
    "# Vamos a hacer varias requests seguidas para obtener más información, ponemos el time sleep para que la ISS se mueva"
   ]
  },
  {
   "cell_type": "code",
   "execution_count": 72,
   "id": "beneficial-stomach",
   "metadata": {},
   "outputs": [
    {
     "name": "stdout",
     "output_type": "stream",
     "text": [
      "0\n",
      "1\n",
      "2\n",
      "3\n",
      "4\n",
      "5\n",
      "6\n",
      "7\n",
      "8\n",
      "9\n"
     ]
    }
   ],
   "source": [
    "import time\n",
    "posiciones = []\n",
    "for n in range(10):\n",
    "    print(n)\n",
    "    response = requests.get(url_iss).json() #aquí hacemos la request\n",
    "    posiciones.append(response)\n",
    "    time.sleep(1)"
   ]
  },
  {
   "cell_type": "code",
   "execution_count": 78,
   "id": "sound-portable",
   "metadata": {},
   "outputs": [],
   "source": [
    "#posiciones"
   ]
  },
  {
   "cell_type": "code",
   "execution_count": 74,
   "id": "imposed-major",
   "metadata": {},
   "outputs": [
    {
     "data": {
      "text/plain": [
       "10"
      ]
     },
     "execution_count": 74,
     "metadata": {},
     "output_type": "execute_result"
    }
   ],
   "source": [
    "len(posiciones)"
   ]
  },
  {
   "cell_type": "code",
   "execution_count": 75,
   "id": "classical-annual",
   "metadata": {},
   "outputs": [
    {
     "data": {
      "text/plain": [
       "list"
      ]
     },
     "execution_count": 75,
     "metadata": {},
     "output_type": "execute_result"
    }
   ],
   "source": [
    "type(posiciones)"
   ]
  },
  {
   "cell_type": "code",
   "execution_count": 76,
   "id": "reflected-cabin",
   "metadata": {},
   "outputs": [],
   "source": [
    "posiciones_df = pd.DataFrame(posiciones)"
   ]
  },
  {
   "cell_type": "code",
   "execution_count": 77,
   "id": "southeast-begin",
   "metadata": {},
   "outputs": [
    {
     "data": {
      "text/html": [
       "<div>\n",
       "<style scoped>\n",
       "    .dataframe tbody tr th:only-of-type {\n",
       "        vertical-align: middle;\n",
       "    }\n",
       "\n",
       "    .dataframe tbody tr th {\n",
       "        vertical-align: top;\n",
       "    }\n",
       "\n",
       "    .dataframe thead th {\n",
       "        text-align: right;\n",
       "    }\n",
       "</style>\n",
       "<table border=\"1\" class=\"dataframe\">\n",
       "  <thead>\n",
       "    <tr style=\"text-align: right;\">\n",
       "      <th></th>\n",
       "      <th>name</th>\n",
       "      <th>id</th>\n",
       "      <th>latitude</th>\n",
       "      <th>longitude</th>\n",
       "      <th>altitude</th>\n",
       "      <th>velocity</th>\n",
       "      <th>visibility</th>\n",
       "      <th>footprint</th>\n",
       "      <th>timestamp</th>\n",
       "      <th>daynum</th>\n",
       "      <th>solar_lat</th>\n",
       "      <th>solar_lon</th>\n",
       "      <th>units</th>\n",
       "    </tr>\n",
       "  </thead>\n",
       "  <tbody>\n",
       "    <tr>\n",
       "      <th>0</th>\n",
       "      <td>iss</td>\n",
       "      <td>25544</td>\n",
       "      <td>-0.495683</td>\n",
       "      <td>3.564690</td>\n",
       "      <td>418.288021</td>\n",
       "      <td>27586.003325</td>\n",
       "      <td>daylight</td>\n",
       "      <td>4498.743405</td>\n",
       "      <td>1636018179</td>\n",
       "      <td>2.459523e+06</td>\n",
       "      <td>-15.493754</td>\n",
       "      <td>33.484834</td>\n",
       "      <td>kilometers</td>\n",
       "    </tr>\n",
       "    <tr>\n",
       "      <th>1</th>\n",
       "      <td>iss</td>\n",
       "      <td>25544</td>\n",
       "      <td>-0.597663</td>\n",
       "      <td>3.636477</td>\n",
       "      <td>418.302734</td>\n",
       "      <td>27585.945209</td>\n",
       "      <td>daylight</td>\n",
       "      <td>4498.818432</td>\n",
       "      <td>1636018181</td>\n",
       "      <td>2.459523e+06</td>\n",
       "      <td>-15.493761</td>\n",
       "      <td>33.476501</td>\n",
       "      <td>kilometers</td>\n",
       "    </tr>\n",
       "    <tr>\n",
       "      <th>2</th>\n",
       "      <td>iss</td>\n",
       "      <td>25544</td>\n",
       "      <td>-0.648652</td>\n",
       "      <td>3.672372</td>\n",
       "      <td>418.310137</td>\n",
       "      <td>27585.916072</td>\n",
       "      <td>daylight</td>\n",
       "      <td>4498.856186</td>\n",
       "      <td>1636018182</td>\n",
       "      <td>2.459523e+06</td>\n",
       "      <td>-15.493764</td>\n",
       "      <td>33.472334</td>\n",
       "      <td>kilometers</td>\n",
       "    </tr>\n",
       "    <tr>\n",
       "      <th>3</th>\n",
       "      <td>iss</td>\n",
       "      <td>25544</td>\n",
       "      <td>-0.750631</td>\n",
       "      <td>3.744164</td>\n",
       "      <td>418.325039</td>\n",
       "      <td>27585.857638</td>\n",
       "      <td>daylight</td>\n",
       "      <td>4498.932174</td>\n",
       "      <td>1636018184</td>\n",
       "      <td>2.459523e+06</td>\n",
       "      <td>-15.493771</td>\n",
       "      <td>33.464001</td>\n",
       "      <td>kilometers</td>\n",
       "    </tr>\n",
       "    <tr>\n",
       "      <th>4</th>\n",
       "      <td>iss</td>\n",
       "      <td>25544</td>\n",
       "      <td>-0.852607</td>\n",
       "      <td>3.815959</td>\n",
       "      <td>418.340066</td>\n",
       "      <td>27585.798993</td>\n",
       "      <td>daylight</td>\n",
       "      <td>4499.008800</td>\n",
       "      <td>1636018186</td>\n",
       "      <td>2.459523e+06</td>\n",
       "      <td>-15.493779</td>\n",
       "      <td>33.455668</td>\n",
       "      <td>kilometers</td>\n",
       "    </tr>\n",
       "  </tbody>\n",
       "</table>\n",
       "</div>"
      ],
      "text/plain": [
       "  name     id  latitude  longitude    altitude      velocity visibility  \\\n",
       "0  iss  25544 -0.495683   3.564690  418.288021  27586.003325   daylight   \n",
       "1  iss  25544 -0.597663   3.636477  418.302734  27585.945209   daylight   \n",
       "2  iss  25544 -0.648652   3.672372  418.310137  27585.916072   daylight   \n",
       "3  iss  25544 -0.750631   3.744164  418.325039  27585.857638   daylight   \n",
       "4  iss  25544 -0.852607   3.815959  418.340066  27585.798993   daylight   \n",
       "\n",
       "     footprint   timestamp        daynum  solar_lat  solar_lon       units  \n",
       "0  4498.743405  1636018179  2.459523e+06 -15.493754  33.484834  kilometers  \n",
       "1  4498.818432  1636018181  2.459523e+06 -15.493761  33.476501  kilometers  \n",
       "2  4498.856186  1636018182  2.459523e+06 -15.493764  33.472334  kilometers  \n",
       "3  4498.932174  1636018184  2.459523e+06 -15.493771  33.464001  kilometers  \n",
       "4  4499.008800  1636018186  2.459523e+06 -15.493779  33.455668  kilometers  "
      ]
     },
     "execution_count": 77,
     "metadata": {},
     "output_type": "execute_result"
    }
   ],
   "source": [
    "posiciones_df.head()"
   ]
  },
  {
   "cell_type": "markdown",
   "id": "organizational-lightning",
   "metadata": {},
   "source": [
    "### Parámetros"
   ]
  },
  {
   "cell_type": "markdown",
   "id": "foreign-community",
   "metadata": {},
   "source": [
    "Recuerda.... La documentación de la API   \n",
    "https://wheretheiss.at/w/developer"
   ]
  },
  {
   "cell_type": "markdown",
   "id": "round-miracle",
   "metadata": {},
   "source": [
    "![captura](../images/parameters.png)"
   ]
  },
  {
   "cell_type": "markdown",
   "id": "thrown-might",
   "metadata": {},
   "source": [
    "A veces queremos pasar algunos parámetros a un punto final de la API.   \n",
    "Similar a las funciones de python que reciben parámetros para un comportamiento diferente"
   ]
  },
  {
   "cell_type": "markdown",
   "id": "private-recall",
   "metadata": {},
   "source": [
    "Los parámetros se pasan con `?param1=value1&param2=value2...` al final de la URL"
   ]
  },
  {
   "cell_type": "code",
   "execution_count": 79,
   "id": "organic-inspection",
   "metadata": {},
   "outputs": [],
   "source": [
    "url_params = \"https://api.wheretheiss.at/v1/satellites/25544?units=miles\""
   ]
  },
  {
   "cell_type": "code",
   "execution_count": 81,
   "id": "vital-grace",
   "metadata": {},
   "outputs": [
    {
     "data": {
      "text/plain": [
       "{'name': 'iss',\n",
       " 'id': 25544,\n",
       " 'latitude': -51.300675114038,\n",
       " 'longitude': 76.943851972604,\n",
       " 'altitude': 271.87012646169,\n",
       " 'velocity': 17110.523526262,\n",
       " 'visibility': 'daylight',\n",
       " 'footprint': 2855.5772360492,\n",
       " 'timestamp': 1636019459,\n",
       " 'daynum': 2459522.9104051,\n",
       " 'solar_lat': -15.498292953531,\n",
       " 'solar_lon': 28.151565914446,\n",
       " 'units': 'miles'}"
      ]
     },
     "execution_count": 81,
     "metadata": {},
     "output_type": "execute_result"
    }
   ],
   "source": [
    "requests.get(url_params).json()"
   ]
  },
  {
   "cell_type": "markdown",
   "id": "furnished-sailing",
   "metadata": {},
   "source": [
    "La librería `requests` pasemos los parámetros como un diccionario"
   ]
  },
  {
   "cell_type": "code",
   "execution_count": 85,
   "id": "simple-january",
   "metadata": {},
   "outputs": [],
   "source": [
    "parametros = {\"units\":\"miles\"}"
   ]
  },
  {
   "cell_type": "code",
   "execution_count": 84,
   "id": "eligible-elder",
   "metadata": {},
   "outputs": [
    {
     "data": {
      "text/plain": [
       "'https://api.wheretheiss.at/v1/satellites/25544'"
      ]
     },
     "execution_count": 84,
     "metadata": {},
     "output_type": "execute_result"
    }
   ],
   "source": [
    "url_iss"
   ]
  },
  {
   "cell_type": "code",
   "execution_count": 87,
   "id": "allied-uncertainty",
   "metadata": {},
   "outputs": [
    {
     "data": {
      "text/plain": [
       "{'name': 'iss',\n",
       " 'id': 25544,\n",
       " 'latitude': -51.738092111333,\n",
       " 'longitude': 83.640448130854,\n",
       " 'altitude': 272.09108983091,\n",
       " 'velocity': 17109.84699766,\n",
       " 'visibility': 'daylight',\n",
       " 'footprint': 2856.6748221795,\n",
       " 'timestamp': 1636019527,\n",
       " 'daynum': 2459522.9111921,\n",
       " 'solar_lat': -15.49853407377,\n",
       " 'solar_lon': 27.868235909693,\n",
       " 'units': 'miles'}"
      ]
     },
     "execution_count": 87,
     "metadata": {},
     "output_type": "execute_result"
    }
   ],
   "source": [
    "requests.get(url_iss,params=parametros).json()"
   ]
  },
  {
   "cell_type": "markdown",
   "id": "living-allocation",
   "metadata": {},
   "source": [
    "## ¡¡Es tu momento!!"
   ]
  },
  {
   "cell_type": "markdown",
   "id": "opposite-factory",
   "metadata": {},
   "source": [
    "- https://official-joke-api.appspot.com/   \n",
    "- https://jokeapi.dev/\n",
    "- https://github.com/thenamesweretakenalready/Sv443s-JokeAPI-Python-Wrapper#readme "
   ]
  },
  {
   "cell_type": "markdown",
   "id": "polish-garden",
   "metadata": {},
   "source": [
    "Consulte esta API... 👆o cualquier otra, [PUEDES MIRAR AQUÍ](https://github.com/public-apis/public-apis) para hacer el ejercicio.     \n",
    "Intenta llamar a una API, con o sin parámetros y... ¡¡obten algo de información!!"
   ]
  },
  {
   "cell_type": "code",
   "execution_count": null,
   "id": "strategic-communications",
   "metadata": {},
   "outputs": [],
   "source": []
  },
  {
   "cell_type": "markdown",
   "id": "secret-ultimate",
   "metadata": {},
   "source": [
    "### Probamos api CAT-FACTS\n",
    "https://alexwohlbruck.github.io/cat-facts/docs/"
   ]
  },
  {
   "cell_type": "code",
   "execution_count": null,
   "id": "fancy-printer",
   "metadata": {},
   "outputs": [],
   "source": []
  },
  {
   "cell_type": "code",
   "execution_count": null,
   "id": "formal-belle",
   "metadata": {},
   "outputs": [],
   "source": [
    "fact.headers"
   ]
  },
  {
   "cell_type": "code",
   "execution_count": null,
   "id": "entertaining-equipment",
   "metadata": {},
   "outputs": [],
   "source": []
  },
  {
   "cell_type": "markdown",
   "id": "lightweight-lover",
   "metadata": {},
   "source": [
    "### Api Jokes\n",
    "https://jokeapi.dev/   "
   ]
  },
  {
   "cell_type": "code",
   "execution_count": null,
   "id": "short-heating",
   "metadata": {},
   "outputs": [],
   "source": []
  },
  {
   "cell_type": "markdown",
   "id": "dried-cedar",
   "metadata": {},
   "source": [
    "Ojo, en esta API no podemos meter los parámetros como diccionario porque esta API no está preparada para que le metamos los parámetros de esa manera. Miramos la DOC siempre. \n",
    "https://github.com/thenamesweretakenalready/Sv443s-JokeAPI-Python-Wrapper"
   ]
  },
  {
   "cell_type": "markdown",
   "id": "mexican-links",
   "metadata": {},
   "source": [
    "## Headers"
   ]
  },
  {
   "cell_type": "markdown",
   "id": "manual-sperm",
   "metadata": {},
   "source": [
    "Las cabeceras HTTP son una parte importante de la solicitud y la respuesta de la API, ya que representan los metadatos asociados a la solicitud y la respuesta de la API. Las cabeceras llevan información para:\n",
    "\n",
    "* Cuerpo de la solicitud y de la respuesta\n",
    "* Autorización de la solicitud\n",
    "* Caché de la respuesta \n",
    "* Cookies de respuesta"
   ]
  },
  {
   "cell_type": "markdown",
   "id": "sustained-respect",
   "metadata": {},
   "source": [
    "## API Keys\n",
    "Alguna de las APIs que usemos, requerirá autenticación."
   ]
  },
  {
   "cell_type": "markdown",
   "id": "educated-rotation",
   "metadata": {},
   "source": [
    "- https://github.com/settings/tokens\n",
    "- https://docs.github.com/es/rest/guides/getting-started-with-the-rest-api\n",
    "- https://pypi.org/project/python-dotenv/"
   ]
  },
  {
   "cell_type": "code",
   "execution_count": null,
   "id": "dirty-pearl",
   "metadata": {},
   "outputs": [],
   "source": [
    "#!pip3 install python-dotenv"
   ]
  },
  {
   "cell_type": "code",
   "execution_count": null,
   "id": "attractive-breathing",
   "metadata": {},
   "outputs": [],
   "source": [
    "import os\n",
    "from dotenv import load_dotenv"
   ]
  },
  {
   "cell_type": "code",
   "execution_count": null,
   "id": "competent-national",
   "metadata": {},
   "outputs": [],
   "source": [
    "#activamos el entorno para poder conectar el jupyter y extraer las variables\n"
   ]
  },
  {
   "cell_type": "code",
   "execution_count": null,
   "id": "female-magazine",
   "metadata": {},
   "outputs": [],
   "source": []
  },
  {
   "cell_type": "code",
   "execution_count": null,
   "id": "physical-following",
   "metadata": {},
   "outputs": [],
   "source": []
  },
  {
   "cell_type": "code",
   "execution_count": null,
   "id": "duplicate-report",
   "metadata": {},
   "outputs": [],
   "source": []
  },
  {
   "cell_type": "code",
   "execution_count": null,
   "id": "painful-concern",
   "metadata": {},
   "outputs": [],
   "source": []
  },
  {
   "cell_type": "code",
   "execution_count": null,
   "id": "vital-universal",
   "metadata": {},
   "outputs": [],
   "source": [
    "#response"
   ]
  },
  {
   "cell_type": "code",
   "execution_count": null,
   "id": "corporate-candle",
   "metadata": {},
   "outputs": [],
   "source": []
  },
  {
   "cell_type": "code",
   "execution_count": null,
   "id": "detected-salon",
   "metadata": {},
   "outputs": [],
   "source": []
  },
  {
   "cell_type": "code",
   "execution_count": null,
   "id": "gothic-clause",
   "metadata": {},
   "outputs": [],
   "source": []
  },
  {
   "cell_type": "code",
   "execution_count": null,
   "id": "worth-boundary",
   "metadata": {},
   "outputs": [],
   "source": []
  },
  {
   "cell_type": "code",
   "execution_count": null,
   "id": "another-indie",
   "metadata": {},
   "outputs": [],
   "source": []
  },
  {
   "cell_type": "code",
   "execution_count": null,
   "id": "subsequent-calgary",
   "metadata": {},
   "outputs": [],
   "source": []
  },
  {
   "cell_type": "code",
   "execution_count": null,
   "id": "medieval-earthquake",
   "metadata": {},
   "outputs": [],
   "source": []
  },
  {
   "cell_type": "code",
   "execution_count": null,
   "id": "floating-fluid",
   "metadata": {},
   "outputs": [],
   "source": []
  },
  {
   "cell_type": "code",
   "execution_count": null,
   "id": "retired-crime",
   "metadata": {},
   "outputs": [],
   "source": [
    "#requestGithub(url_forks)"
   ]
  },
  {
   "cell_type": "code",
   "execution_count": null,
   "id": "boolean-point",
   "metadata": {},
   "outputs": [],
   "source": []
  },
  {
   "cell_type": "code",
   "execution_count": null,
   "id": "attended-enclosure",
   "metadata": {},
   "outputs": [],
   "source": []
  },
  {
   "cell_type": "code",
   "execution_count": null,
   "id": "threatened-function",
   "metadata": {},
   "outputs": [],
   "source": []
  },
  {
   "cell_type": "code",
   "execution_count": null,
   "id": "individual-removal",
   "metadata": {},
   "outputs": [],
   "source": []
  },
  {
   "cell_type": "code",
   "execution_count": null,
   "id": "flying-universal",
   "metadata": {},
   "outputs": [],
   "source": []
  },
  {
   "cell_type": "code",
   "execution_count": null,
   "id": "understanding-plaintiff",
   "metadata": {},
   "outputs": [],
   "source": []
  },
  {
   "cell_type": "code",
   "execution_count": null,
   "id": "disturbed-jersey",
   "metadata": {},
   "outputs": [],
   "source": []
  },
  {
   "cell_type": "markdown",
   "id": "departmental-float",
   "metadata": {},
   "source": [
    "## API Wrappers\n",
    "La mayoría de las aplicaciones a las que querrás solicitar datos (redes sociales, motores de búsqueda, etc.) querrán saber quién accede a su aplicación, cómo piensan hacerlo y qué piensan hacer con los datos.\n",
    "\n",
    "Para estas aplicaciones populares, también hay wrappers de Python que se han escrito para sus APIs que hacen que la interacción con ellos sea mucho más fácil de lo que sería de otra manera. 🙌🏻"
   ]
  },
  {
   "cell_type": "markdown",
   "id": "driven-lightning",
   "metadata": {},
   "source": [
    "### Acceder a la API de Twitter con Python\n",
    "Un ejemplo es la biblioteca tweepy que hace que obtener datos de la API de Twitter sea relativamente sencillo.\n",
    "\n",
    "Antes de poder utilizarla, necesitamos crear una cuenta de desarrollador (si no tenemos ya una, crear una aplicación y obtener las credenciales de Twitter. Para crear una cuenta de desarrollador, sigue los siguientes pasos.\n",
    "\n",
    "Ve a https://developer.twitter.com/en/apply-for-access.html.\n",
    "Haga clic en Solicitar una cuenta de desarrollador.\n",
    "Sigue las instrucciones y proporciona la información necesaria para crear una cuenta de desarrollador para uso personal.\n",
    "Twitter revisará tu solicitud y aprobará tu cuenta (suponiendo que no hayas dicho que harás algo que viole sus condiciones de servicio).\n",
    "Tras recibir la confirmación de que tu cuenta de desarrollador ha sido aprobada, deberás crear una aplicación accediendo a tu cuenta y siguiendo los pasos para crear una nueva app. Una vez creada la aplicación, el siguiente paso es obtener tus credenciales. Estas credenciales te darán permiso para acceder a la API de Twitter. Las credenciales consisten en una clave API, una clave secreta API, un token de acceso y un token secreto de acceso. Puedes encontrarlas viendo los detalles de tu aplicación y haciendo clic en la pestaña Claves y Tokens.\n",
    "\n",
    "Advertencia: Debes guardar tus credenciales en un lugar seguro, nunca las compartas y nunca las subas a Github.\n",
    "\n",
    "Ahora que hemos obtenido nuestras credenciales, podemos utilizar tweepy para acceder a la API de Twitter como sigue. Recuerda que tendrás que reemplazar las credenciales de abajo con tus credenciales reales para que este código funcione."
   ]
  },
  {
   "cell_type": "code",
   "execution_count": null,
   "id": "ranking-healing",
   "metadata": {},
   "outputs": [],
   "source": [
    "#Importamos la librería tweepy\n"
   ]
  },
  {
   "cell_type": "code",
   "execution_count": null,
   "id": "allied-legislature",
   "metadata": {},
   "outputs": [],
   "source": [
    "# Tenemos que importar todas estas KEY que nos da la app de twitter development"
   ]
  },
  {
   "cell_type": "markdown",
   "id": "round-nicholas",
   "metadata": {},
   "source": [
    "Nos autenticamos --> Documentación con más info [aquí](https://docs.tweepy.org/en/latest/auth_tutorial.html)"
   ]
  },
  {
   "cell_type": "code",
   "execution_count": null,
   "id": "sought-exposure",
   "metadata": {},
   "outputs": [],
   "source": [
    "### Probando api twitter"
   ]
  },
  {
   "cell_type": "code",
   "execution_count": null,
   "id": "moved-communist",
   "metadata": {},
   "outputs": [],
   "source": []
  },
  {
   "cell_type": "code",
   "execution_count": null,
   "id": "sophisticated-mystery",
   "metadata": {},
   "outputs": [],
   "source": []
  },
  {
   "cell_type": "code",
   "execution_count": null,
   "id": "historic-clock",
   "metadata": {},
   "outputs": [],
   "source": []
  },
  {
   "cell_type": "markdown",
   "id": "entire-triangle",
   "metadata": {},
   "source": [
    "¿Cómo puedo saber qué datos puedo sacar de este objeto de tweepy? \n",
    "Leyendo la [D O C U M E N T A C I Ó N](https://developer.twitter.com/en/docs/twitter-api/v1/data-dictionary/object-model/tweet)     \n",
    "Recordamos también que podemos ver los métodos de un objeto de clase con `dir(obj)`"
   ]
  },
  {
   "cell_type": "code",
   "execution_count": null,
   "id": "hybrid-tradition",
   "metadata": {},
   "outputs": [],
   "source": []
  },
  {
   "cell_type": "code",
   "execution_count": null,
   "id": "comfortable-davis",
   "metadata": {},
   "outputs": [],
   "source": []
  },
  {
   "cell_type": "code",
   "execution_count": null,
   "id": "delayed-rochester",
   "metadata": {},
   "outputs": [],
   "source": []
  },
  {
   "cell_type": "code",
   "execution_count": null,
   "id": "united-technology",
   "metadata": {},
   "outputs": [],
   "source": []
  },
  {
   "cell_type": "code",
   "execution_count": null,
   "id": "fatty-complexity",
   "metadata": {},
   "outputs": [],
   "source": [
    "# Métodos \n",
    "#dir(api)"
   ]
  },
  {
   "cell_type": "code",
   "execution_count": null,
   "id": "continent-aircraft",
   "metadata": {},
   "outputs": [],
   "source": []
  },
  {
   "cell_type": "code",
   "execution_count": null,
   "id": "alpha-legislature",
   "metadata": {},
   "outputs": [],
   "source": [
    "#res[0]._json"
   ]
  },
  {
   "cell_type": "code",
   "execution_count": null,
   "id": "waiting-mouse",
   "metadata": {},
   "outputs": [],
   "source": []
  },
  {
   "cell_type": "code",
   "execution_count": null,
   "id": "recorded-executive",
   "metadata": {},
   "outputs": [],
   "source": []
  },
  {
   "cell_type": "code",
   "execution_count": null,
   "id": "former-theater",
   "metadata": {},
   "outputs": [],
   "source": []
  },
  {
   "cell_type": "code",
   "execution_count": null,
   "id": "stunning-special",
   "metadata": {},
   "outputs": [],
   "source": []
  },
  {
   "cell_type": "code",
   "execution_count": null,
   "id": "least-subscriber",
   "metadata": {},
   "outputs": [],
   "source": []
  },
  {
   "cell_type": "markdown",
   "id": "prescription-evidence",
   "metadata": {},
   "source": [
    "## Clientes API"
   ]
  },
  {
   "cell_type": "markdown",
   "id": "vulnerable-tolerance",
   "metadata": {},
   "source": [
    "Vemos insomnia --> https://insomnia.rest/download"
   ]
  },
  {
   "cell_type": "markdown",
   "id": "worthy-coordinate",
   "metadata": {},
   "source": [
    "En insomnia podemos guardar diferentes apis para poder llamarlas a golpe de click, os dejo capturas"
   ]
  },
  {
   "cell_type": "markdown",
   "id": "prime-liability",
   "metadata": {},
   "source": [
    "![insomnia](../images/in_1.png)\n",
    "![insomnia](../images/in_2.png)\n",
    "![insomnia](../images/in_3.png)\n",
    "![insomnia](../images/in_4.png)"
   ]
  },
  {
   "cell_type": "markdown",
   "id": "current-seventh",
   "metadata": {},
   "source": [
    "### Códigos generados por insomnia"
   ]
  },
  {
   "cell_type": "code",
   "execution_count": null,
   "id": "silver-washer",
   "metadata": {},
   "outputs": [],
   "source": []
  },
  {
   "cell_type": "code",
   "execution_count": null,
   "id": "resistant-editing",
   "metadata": {},
   "outputs": [],
   "source": []
  },
  {
   "cell_type": "markdown",
   "id": "seeing-bahrain",
   "metadata": {},
   "source": [
    "## Resumen   \n",
    "Es tu turno ¿Qué hemos aprendido?\n",
    "\n"
   ]
  },
  {
   "cell_type": "markdown",
   "id": "accompanied-edition",
   "metadata": {},
   "source": [
    "### Recorrido:\n",
    "- Importo requests\n",
    "- Me guardo las contraseñas si esa  api las necesita / api_key / oauth\n",
    "- Hago request.get al endpoint de la api (en la doc de dicha api me pueden enseñar que hay varios endpoints)\n",
    "- Esa api me devuelve un json \n",
    "- Ese  json puede ser un dataframe o puedo investigar dentro de los elementos del json (lista  de diccionarios)"
   ]
  },
  {
   "cell_type": "markdown",
   "id": "plastic-cleaner",
   "metadata": {},
   "source": [
    "## Further materials"
   ]
  },
  {
   "cell_type": "markdown",
   "id": "logical-essence",
   "metadata": {},
   "source": [
    "- [5 Simple-To-Use APIs for Beginners](https://dev.to/alanconstantino/5-simple-to-use-apis-for-beginners-2e0n)\n",
    "- [RapidAPI](https://rapidapi.com/category/Sports): access thousands of APIs!!\n",
    "- [muchasapis](https://github.com/public-apis/public-apis)"
   ]
  }
 ],
 "metadata": {
  "kernelspec": {
   "display_name": "ironhack",
   "language": "python",
   "name": "ironhack"
  },
  "language_info": {
   "codemirror_mode": {
    "name": "ipython",
    "version": 3
   },
   "file_extension": ".py",
   "mimetype": "text/x-python",
   "name": "python",
   "nbconvert_exporter": "python",
   "pygments_lexer": "ipython3",
   "version": "3.8.5"
  },
  "toc": {
   "base_numbering": 1,
   "nav_menu": {},
   "number_sections": true,
   "sideBar": true,
   "skip_h1_title": true,
   "title_cell": "Table of Contents",
   "title_sidebar": "Contents",
   "toc_cell": true,
   "toc_position": {},
   "toc_section_display": true,
   "toc_window_display": false
  }
 },
 "nbformat": 4,
 "nbformat_minor": 5
}
